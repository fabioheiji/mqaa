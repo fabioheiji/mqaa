{
 "cells": [
  {
   "cell_type": "code",
   "execution_count": 29,
   "id": "c4cb31e8",
   "metadata": {},
   "outputs": [],
   "source": [
    "import matplotlib.pyplot as plt\n",
    "%matplotlib inline\n",
    "import pandas as pd\n",
    "import numpy as np\n",
    "import seaborn as sns\n",
    "from scipy.stats import kstest\n",
    "\n",
    "from sklearn.model_selection import train_test_split, cross_val_score\n",
    "from sklearn.discriminant_analysis import LinearDiscriminantAnalysis\n",
    "from sklearn.metrics import confusion_matrix\n",
    "from statsmodels.stats.outliers_influence import variance_inflation_factor\n",
    "from sklearn.ensemble import IsolationForest\n"
   ]
  },
  {
   "cell_type": "code",
   "execution_count": 30,
   "id": "13f79f5c",
   "metadata": {},
   "outputs": [],
   "source": [
    "#Importar os dados\n",
    "df = pd.read_csv('base_dummy.csv')"
   ]
  },
  {
   "cell_type": "code",
   "execution_count": 31,
   "id": "3fbf46c2",
   "metadata": {},
   "outputs": [],
   "source": [
    "#g = sns.pairplot(df)"
   ]
  },
  {
   "cell_type": "markdown",
   "id": "e0755491",
   "metadata": {},
   "source": [
    "# Avalio solucoes candidatas para variavel dependente"
   ]
  },
  {
   "cell_type": "code",
   "execution_count": 32,
   "id": "93d4a683",
   "metadata": {},
   "outputs": [],
   "source": [
    "df_original = pd.read_csv('Base mesclada.csv')"
   ]
  },
  {
   "cell_type": "code",
   "execution_count": 33,
   "id": "69d5e01a",
   "metadata": {},
   "outputs": [],
   "source": [
    "objects = ['object']\n",
    "\n",
    "df_original_objetos = df_original.select_dtypes(include=objects)\n",
    "\n",
    "colunas_para_avaliar = df_original_objetos.columns"
   ]
  },
  {
   "cell_type": "code",
   "execution_count": 34,
   "id": "3a7a0897",
   "metadata": {},
   "outputs": [
    {
     "name": "stdout",
     "output_type": "stream",
     "text": [
      "  MSZoning  size\n",
      "0  C (all)    25\n",
      "1       FV   139\n",
      "2       RH    26\n",
      "3       RL  2265\n",
      "4       RM   460\n",
      "\n",
      "  Street  size\n",
      "0   Grvl    12\n",
      "1   Pave  2907\n",
      "\n",
      "  Alley  size\n",
      "0  Grvl   120\n",
      "1  Pave    78\n",
      "\n",
      "  LotShape  size\n",
      "0      IR1   968\n",
      "1      IR2    76\n",
      "2      IR3    16\n",
      "3      Reg  1859\n",
      "\n",
      "  LandContour  size\n",
      "0         Bnk   117\n",
      "1         HLS   120\n",
      "2         Low    60\n",
      "3         Lvl  2622\n",
      "\n",
      "  Utilities  size\n",
      "0    AllPub  2916\n",
      "1    NoSeWa     1\n",
      "\n",
      "  LotConfig  size\n",
      "0    Corner   511\n",
      "1   CulDSac   176\n",
      "2       FR2    85\n",
      "3       FR3    14\n",
      "4    Inside  2133\n",
      "\n",
      "  LandSlope  size\n",
      "0       Gtl  2778\n",
      "1       Mod   125\n",
      "2       Sev    16\n",
      "\n",
      "   Neighborhood  size\n",
      "0       Blmngtn    28\n",
      "1       Blueste    10\n",
      "2        BrDale    30\n",
      "3       BrkSide   108\n",
      "4       ClearCr    44\n",
      "5       CollgCr   267\n",
      "6       Crawfor   103\n",
      "7       Edwards   194\n",
      "8       Gilbert   165\n",
      "9        IDOTRR    93\n",
      "10      MeadowV    37\n",
      "11      Mitchel   114\n",
      "12        NAmes   443\n",
      "13      NPkVill    23\n",
      "14       NWAmes   131\n",
      "15      NoRidge    71\n",
      "16      NridgHt   166\n",
      "17      OldTown   239\n",
      "18        SWISU    48\n",
      "19       Sawyer   151\n",
      "20      SawyerW   125\n",
      "21      Somerst   182\n",
      "22      StoneBr    51\n",
      "23       Timber    72\n",
      "24      Veenker    24\n",
      "\n",
      "  Condition1  size\n",
      "0     Artery    92\n",
      "1      Feedr   164\n",
      "2       Norm  2511\n",
      "3       PosA    20\n",
      "4       PosN    39\n",
      "5       RRAe    28\n",
      "6       RRAn    50\n",
      "7       RRNe     6\n",
      "8       RRNn     9\n",
      "\n",
      "  Condition2  size\n",
      "0     Artery     5\n",
      "1      Feedr    13\n",
      "2       Norm  2889\n",
      "3       PosA     4\n",
      "4       PosN     4\n",
      "5       RRAe     1\n",
      "6       RRAn     1\n",
      "7       RRNn     2\n",
      "\n",
      "  BldgType  size\n",
      "0     1Fam  2425\n",
      "1   2fmCon    62\n",
      "2   Duplex   109\n",
      "3    Twnhs    96\n",
      "4   TwnhsE   227\n",
      "\n",
      "  HouseStyle  size\n",
      "0     1.5Fin   314\n",
      "1     1.5Unf    19\n",
      "2     1Story  1471\n",
      "3     2.5Fin     8\n",
      "4     2.5Unf    24\n",
      "5     2Story   872\n",
      "6     SFoyer    83\n",
      "7       SLvl   128\n",
      "\n",
      "  RoofStyle  size\n",
      "0      Flat    20\n",
      "1     Gable  2310\n",
      "2   Gambrel    22\n",
      "3       Hip   551\n",
      "4   Mansard    11\n",
      "5      Shed     5\n",
      "\n",
      "  RoofMatl  size\n",
      "0  ClyTile     1\n",
      "1  CompShg  2876\n",
      "2  Membran     1\n",
      "3    Metal     1\n",
      "4     Roll     1\n",
      "5  Tar&Grv    23\n",
      "6  WdShake     9\n",
      "7  WdShngl     7\n",
      "\n",
      "   Exterior1st  size\n",
      "0      AsbShng    44\n",
      "1      AsphShn     2\n",
      "2      BrkComm     6\n",
      "3      BrkFace    87\n",
      "4       CBlock     2\n",
      "5      CemntBd   126\n",
      "6      HdBoard   442\n",
      "7      ImStucc     1\n",
      "8      MetalSd   450\n",
      "9      Plywood   221\n",
      "10       Stone     2\n",
      "11      Stucco    43\n",
      "12     VinylSd  1025\n",
      "13     Wd Sdng   411\n",
      "14     WdShing    56\n",
      "\n",
      "   Exterior2nd  size\n",
      "0      AsbShng    38\n",
      "1      AsphShn     4\n",
      "2      Brk Cmn    22\n",
      "3      BrkFace    47\n",
      "4       CBlock     3\n",
      "5      CmentBd   126\n",
      "6      HdBoard   406\n",
      "7      ImStucc    15\n",
      "8      MetalSd   447\n",
      "9        Other     1\n",
      "10     Plywood   270\n",
      "11       Stone     6\n",
      "12      Stucco    47\n",
      "13     VinylSd  1014\n",
      "14     Wd Sdng   391\n",
      "15     Wd Shng    81\n",
      "\n",
      "  MasVnrType  size\n",
      "0     BrkCmn    25\n",
      "1    BrkFace   879\n",
      "2       None  1742\n",
      "3      Stone   249\n",
      "\n",
      "  ExterQual  size\n",
      "0        Ex   107\n",
      "1        Fa    35\n",
      "2        Gd   979\n",
      "3        TA  1798\n",
      "\n",
      "  ExterCond  size\n",
      "0        Ex    12\n",
      "1        Fa    67\n",
      "2        Gd   299\n",
      "3        Po     3\n",
      "4        TA  2538\n",
      "\n",
      "  Foundation  size\n",
      "0     BrkTil   311\n",
      "1     CBlock  1235\n",
      "2      PConc  1308\n",
      "3       Slab    49\n",
      "4      Stone    11\n",
      "5       Wood     5\n",
      "\n",
      "  BsmtQual  size\n",
      "0       Ex   258\n",
      "1       Fa    88\n",
      "2       Gd  1209\n",
      "3       TA  1283\n",
      "\n",
      "  BsmtCond  size\n",
      "0       Fa   104\n",
      "1       Gd   122\n",
      "2       Po     5\n",
      "3       TA  2606\n",
      "\n",
      "  BsmtExposure  size\n",
      "0           Av   418\n",
      "1           Gd   276\n",
      "2           Mn   239\n",
      "3           No  1904\n",
      "\n",
      "  BsmtFinType1  size\n",
      "0          ALQ   429\n",
      "1          BLQ   269\n",
      "2          GLQ   849\n",
      "3          LwQ   154\n",
      "4          Rec   288\n",
      "5          Unf   851\n",
      "\n",
      "  BsmtFinType2  size\n",
      "0          ALQ    52\n",
      "1          BLQ    68\n",
      "2          GLQ    34\n",
      "3          LwQ    87\n",
      "4          Rec   105\n",
      "5          Unf  2493\n",
      "\n",
      "  Heating  size\n",
      "0   Floor     1\n",
      "1    GasA  2874\n",
      "2    GasW    27\n",
      "3    Grav     9\n",
      "4    OthW     2\n",
      "5    Wall     6\n",
      "\n",
      "  HeatingQC  size\n",
      "0        Ex  1493\n",
      "1        Fa    92\n",
      "2        Gd   474\n",
      "3        Po     3\n",
      "4        TA   857\n",
      "\n",
      "  CentralAir  size\n",
      "0          N   196\n",
      "1          Y  2723\n",
      "\n",
      "  Electrical  size\n",
      "0      FuseA   188\n",
      "1      FuseF    50\n",
      "2      FuseP     8\n",
      "3        Mix     1\n",
      "4      SBrkr  2671\n",
      "\n",
      "  KitchenQual  size\n",
      "0          Ex   205\n",
      "1          Fa    70\n",
      "2          Gd  1151\n",
      "3          TA  1492\n",
      "\n",
      "  Functional  size\n",
      "0       Maj1    19\n",
      "1       Maj2     9\n",
      "2       Min1    65\n",
      "3       Min2    70\n",
      "4        Mod    35\n",
      "5        Sev     2\n",
      "6        Typ  2717\n",
      "\n",
      "  FireplaceQu  size\n",
      "0          Ex    43\n",
      "1          Fa    74\n",
      "2          Gd   744\n",
      "3          Po    46\n",
      "4          TA   592\n",
      "\n",
      "  GarageType  size\n",
      "0     2Types    23\n",
      "1     Attchd  1723\n",
      "2    Basment    36\n",
      "3    BuiltIn   186\n",
      "4    CarPort    15\n",
      "5     Detchd   779\n",
      "\n",
      "  GarageFinish  size\n",
      "0          Fin   719\n",
      "1          RFn   811\n",
      "2          Unf  1230\n",
      "\n",
      "  GarageQual  size\n",
      "0         Ex     3\n",
      "1         Fa   124\n",
      "2         Gd    24\n",
      "3         Po     5\n",
      "4         TA  2604\n",
      "\n",
      "  GarageCond  size\n",
      "0         Ex     3\n",
      "1         Fa    74\n",
      "2         Gd    15\n",
      "3         Po    14\n",
      "4         TA  2654\n",
      "\n",
      "  PavedDrive  size\n",
      "0          N   216\n",
      "1          P    62\n",
      "2          Y  2641\n",
      "\n",
      "  PoolQC  size\n",
      "0     Ex     4\n",
      "1     Fa     2\n",
      "2     Gd     4\n",
      "\n",
      "   Fence  size\n",
      "0  GdPrv   118\n",
      "1   GdWo   112\n",
      "2  MnPrv   329\n",
      "3   MnWw    12\n",
      "\n",
      "  MiscFeature  size\n",
      "0        Gar2     5\n",
      "1        Othr     4\n",
      "2        Shed    95\n",
      "3        TenC     1\n",
      "\n",
      "  SaleType  size\n",
      "0      COD    87\n",
      "1      CWD    12\n",
      "2      Con     5\n",
      "3    ConLD    26\n",
      "4    ConLI     9\n",
      "5    ConLw     8\n",
      "6      New   239\n",
      "7      Oth     7\n",
      "8       WD  2525\n",
      "\n",
      "  SaleCondition  size\n",
      "0       Abnorml   190\n",
      "1       AdjLand    12\n",
      "2        Alloca    24\n",
      "3        Family    46\n",
      "4        Normal  2402\n",
      "5       Partial   245\n",
      "\n"
     ]
    }
   ],
   "source": [
    "for col in colunas_para_avaliar:\n",
    "    print(df_original_objetos.groupby([col],as_index=False).size())\n",
    "    print()"
   ]
  },
  {
   "cell_type": "markdown",
   "id": "db2cdc2e",
   "metadata": {},
   "source": [
    "Candidatos para variável dependentes:\n",
    "- BsmtFinType1\n",
    "- GarageFinish"
   ]
  },
  {
   "cell_type": "code",
   "execution_count": 35,
   "id": "d5113ecd",
   "metadata": {},
   "outputs": [
    {
     "data": {
      "text/plain": [
       "GarageFinish\n",
       "Fin     719\n",
       "RFn     811\n",
       "Unf    1230\n",
       "nan     159\n",
       "dtype: int64"
      ]
     },
     "execution_count": 35,
     "metadata": {},
     "output_type": "execute_result"
    }
   ],
   "source": [
    "df_original_objetos[['GarageFinish']].applymap(lambda x:str(x)).groupby(['GarageFinish']).size()"
   ]
  },
  {
   "cell_type": "markdown",
   "id": "b8fe7031",
   "metadata": {},
   "source": [
    "# Adicionei a base de dados as variáveis dependentes candidatas acima"
   ]
  },
  {
   "cell_type": "code",
   "execution_count": 36,
   "id": "3a5ea507",
   "metadata": {},
   "outputs": [
    {
     "data": {
      "text/html": [
       "<div>\n",
       "<style scoped>\n",
       "    .dataframe tbody tr th:only-of-type {\n",
       "        vertical-align: middle;\n",
       "    }\n",
       "\n",
       "    .dataframe tbody tr th {\n",
       "        vertical-align: top;\n",
       "    }\n",
       "\n",
       "    .dataframe thead th {\n",
       "        text-align: right;\n",
       "    }\n",
       "</style>\n",
       "<table border=\"1\" class=\"dataframe\">\n",
       "  <thead>\n",
       "    <tr style=\"text-align: right;\">\n",
       "      <th></th>\n",
       "      <th>Preço da venda</th>\n",
       "      <th>Zona</th>\n",
       "      <th>Qualidade do Aquecimento</th>\n",
       "      <th>Número de Quartos</th>\n",
       "      <th>Área da Garagem</th>\n",
       "      <th>Área do Lote</th>\n",
       "      <th>Número de Banheiros</th>\n",
       "      <th>Idade do Imóvel</th>\n",
       "      <th>Alta Densidade Residencial</th>\n",
       "      <th>Baixa Densidade Residencial</th>\n",
       "      <th>Comercial</th>\n",
       "      <th>Média Densidade Residencial</th>\n",
       "      <th>Vila Flutuante Residencial</th>\n",
       "      <th>Bom</th>\n",
       "      <th>Excelente</th>\n",
       "      <th>Médio</th>\n",
       "      <th>Razoável</th>\n",
       "      <th>Ruim</th>\n",
       "      <th>Qualidade do acabamento do porão</th>\n",
       "      <th>Acabamento da Garagem</th>\n",
       "    </tr>\n",
       "  </thead>\n",
       "  <tbody>\n",
       "    <tr>\n",
       "      <th>0</th>\n",
       "      <td>208500.0</td>\n",
       "      <td>Baixa Densidade Residencial</td>\n",
       "      <td>Excelente</td>\n",
       "      <td>3</td>\n",
       "      <td>548.0</td>\n",
       "      <td>8450</td>\n",
       "      <td>2</td>\n",
       "      <td>5</td>\n",
       "      <td>0</td>\n",
       "      <td>1</td>\n",
       "      <td>0</td>\n",
       "      <td>0</td>\n",
       "      <td>0</td>\n",
       "      <td>0</td>\n",
       "      <td>1</td>\n",
       "      <td>0</td>\n",
       "      <td>0</td>\n",
       "      <td>0</td>\n",
       "      <td>GLQ</td>\n",
       "      <td>RFn</td>\n",
       "    </tr>\n",
       "    <tr>\n",
       "      <th>1</th>\n",
       "      <td>181500.0</td>\n",
       "      <td>Baixa Densidade Residencial</td>\n",
       "      <td>Excelente</td>\n",
       "      <td>3</td>\n",
       "      <td>460.0</td>\n",
       "      <td>9600</td>\n",
       "      <td>2</td>\n",
       "      <td>31</td>\n",
       "      <td>0</td>\n",
       "      <td>1</td>\n",
       "      <td>0</td>\n",
       "      <td>0</td>\n",
       "      <td>0</td>\n",
       "      <td>0</td>\n",
       "      <td>1</td>\n",
       "      <td>0</td>\n",
       "      <td>0</td>\n",
       "      <td>0</td>\n",
       "      <td>ALQ</td>\n",
       "      <td>RFn</td>\n",
       "    </tr>\n",
       "    <tr>\n",
       "      <th>2</th>\n",
       "      <td>223500.0</td>\n",
       "      <td>Baixa Densidade Residencial</td>\n",
       "      <td>Excelente</td>\n",
       "      <td>3</td>\n",
       "      <td>608.0</td>\n",
       "      <td>11250</td>\n",
       "      <td>2</td>\n",
       "      <td>7</td>\n",
       "      <td>0</td>\n",
       "      <td>1</td>\n",
       "      <td>0</td>\n",
       "      <td>0</td>\n",
       "      <td>0</td>\n",
       "      <td>0</td>\n",
       "      <td>1</td>\n",
       "      <td>0</td>\n",
       "      <td>0</td>\n",
       "      <td>0</td>\n",
       "      <td>GLQ</td>\n",
       "      <td>RFn</td>\n",
       "    </tr>\n",
       "    <tr>\n",
       "      <th>3</th>\n",
       "      <td>140000.0</td>\n",
       "      <td>Baixa Densidade Residencial</td>\n",
       "      <td>Bom</td>\n",
       "      <td>3</td>\n",
       "      <td>642.0</td>\n",
       "      <td>9550</td>\n",
       "      <td>1</td>\n",
       "      <td>91</td>\n",
       "      <td>0</td>\n",
       "      <td>1</td>\n",
       "      <td>0</td>\n",
       "      <td>0</td>\n",
       "      <td>0</td>\n",
       "      <td>1</td>\n",
       "      <td>0</td>\n",
       "      <td>0</td>\n",
       "      <td>0</td>\n",
       "      <td>0</td>\n",
       "      <td>ALQ</td>\n",
       "      <td>Unf</td>\n",
       "    </tr>\n",
       "    <tr>\n",
       "      <th>4</th>\n",
       "      <td>250000.0</td>\n",
       "      <td>Baixa Densidade Residencial</td>\n",
       "      <td>Excelente</td>\n",
       "      <td>4</td>\n",
       "      <td>836.0</td>\n",
       "      <td>14260</td>\n",
       "      <td>2</td>\n",
       "      <td>8</td>\n",
       "      <td>0</td>\n",
       "      <td>1</td>\n",
       "      <td>0</td>\n",
       "      <td>0</td>\n",
       "      <td>0</td>\n",
       "      <td>0</td>\n",
       "      <td>1</td>\n",
       "      <td>0</td>\n",
       "      <td>0</td>\n",
       "      <td>0</td>\n",
       "      <td>GLQ</td>\n",
       "      <td>RFn</td>\n",
       "    </tr>\n",
       "  </tbody>\n",
       "</table>\n",
       "</div>"
      ],
      "text/plain": [
       "   Preço da venda                         Zona Qualidade do Aquecimento  \\\n",
       "0        208500.0  Baixa Densidade Residencial                Excelente   \n",
       "1        181500.0  Baixa Densidade Residencial                Excelente   \n",
       "2        223500.0  Baixa Densidade Residencial                Excelente   \n",
       "3        140000.0  Baixa Densidade Residencial                      Bom   \n",
       "4        250000.0  Baixa Densidade Residencial                Excelente   \n",
       "\n",
       "   Número de Quartos  Área da Garagem  Área do Lote  Número de Banheiros  \\\n",
       "0                  3            548.0          8450                    2   \n",
       "1                  3            460.0          9600                    2   \n",
       "2                  3            608.0         11250                    2   \n",
       "3                  3            642.0          9550                    1   \n",
       "4                  4            836.0         14260                    2   \n",
       "\n",
       "   Idade do Imóvel  Alta Densidade Residencial  Baixa Densidade Residencial  \\\n",
       "0                5                           0                            1   \n",
       "1               31                           0                            1   \n",
       "2                7                           0                            1   \n",
       "3               91                           0                            1   \n",
       "4                8                           0                            1   \n",
       "\n",
       "   Comercial  Média Densidade Residencial  Vila Flutuante Residencial  Bom  \\\n",
       "0          0                            0                           0    0   \n",
       "1          0                            0                           0    0   \n",
       "2          0                            0                           0    0   \n",
       "3          0                            0                           0    1   \n",
       "4          0                            0                           0    0   \n",
       "\n",
       "   Excelente  Médio  Razoável  Ruim Qualidade do acabamento do porão  \\\n",
       "0          1      0         0     0                              GLQ   \n",
       "1          1      0         0     0                              ALQ   \n",
       "2          1      0         0     0                              GLQ   \n",
       "3          0      0         0     0                              ALQ   \n",
       "4          1      0         0     0                              GLQ   \n",
       "\n",
       "  Acabamento da Garagem  \n",
       "0                   RFn  \n",
       "1                   RFn  \n",
       "2                   RFn  \n",
       "3                   Unf  \n",
       "4                   RFn  "
      ]
     },
     "execution_count": 36,
     "metadata": {},
     "output_type": "execute_result"
    }
   ],
   "source": [
    "colunas_escolhidas = ['BsmtFinType1','GarageFinish']\n",
    "novas_colunas = ['Qualidade do acabamento do porão','Acabamento da Garagem']\n",
    "df[novas_colunas] = df_original[colunas_escolhidas]\n",
    "\n",
    "df.head()"
   ]
  },
  {
   "cell_type": "code",
   "execution_count": 37,
   "id": "291eff72",
   "metadata": {},
   "outputs": [
    {
     "data": {
      "text/plain": [
       "Preço da venda                      0\n",
       "Zona                                4\n",
       "Qualidade do Aquecimento            0\n",
       "Número de Quartos                   0\n",
       "Área da Garagem                     1\n",
       "Área do Lote                        0\n",
       "Número de Banheiros                 0\n",
       "Idade do Imóvel                     0\n",
       "Alta Densidade Residencial          0\n",
       "Baixa Densidade Residencial         0\n",
       "Comercial                           0\n",
       "Média Densidade Residencial         0\n",
       "Vila Flutuante Residencial          0\n",
       "Bom                                 0\n",
       "Excelente                           0\n",
       "Médio                               0\n",
       "Razoável                            0\n",
       "Ruim                                0\n",
       "Qualidade do acabamento do porão    0\n",
       "Acabamento da Garagem               0\n",
       "dtype: int64"
      ]
     },
     "execution_count": 37,
     "metadata": {},
     "output_type": "execute_result"
    }
   ],
   "source": [
    "# Substituit o NaN pelo valor 'Nao possui'\n",
    "def consertar(x):\n",
    "    if str(x) == 'nan':\n",
    "        return 'Nao possui'\n",
    "    return x\n",
    "    \n",
    "df['Acabamento da Garagem'] = df[['Acabamento da Garagem']].applymap(consertar)\n",
    "df['Qualidade do acabamento do porão'] = df[['Qualidade do acabamento do porão']].applymap(consertar)\n",
    "df.isna().sum()"
   ]
  },
  {
   "cell_type": "code",
   "execution_count": 38,
   "id": "f01771f8",
   "metadata": {},
   "outputs": [
    {
     "data": {
      "text/plain": [
       "Preço da venda                      0\n",
       "Zona                                0\n",
       "Qualidade do Aquecimento            0\n",
       "Número de Quartos                   0\n",
       "Área da Garagem                     0\n",
       "Área do Lote                        0\n",
       "Número de Banheiros                 0\n",
       "Idade do Imóvel                     0\n",
       "Alta Densidade Residencial          0\n",
       "Baixa Densidade Residencial         0\n",
       "Comercial                           0\n",
       "Média Densidade Residencial         0\n",
       "Vila Flutuante Residencial          0\n",
       "Bom                                 0\n",
       "Excelente                           0\n",
       "Médio                               0\n",
       "Razoável                            0\n",
       "Ruim                                0\n",
       "Qualidade do acabamento do porão    0\n",
       "Acabamento da Garagem               0\n",
       "dtype: int64"
      ]
     },
     "execution_count": 38,
     "metadata": {},
     "output_type": "execute_result"
    }
   ],
   "source": [
    "# Excluir os valores NaN restantes\n",
    "df = df.drop(df[df['Zona'].isna()].index)\n",
    "df = df.drop(df[df['Área da Garagem'].isna()].index)\n",
    "df.isna().sum()"
   ]
  },
  {
   "cell_type": "code",
   "execution_count": 39,
   "id": "7558243c",
   "metadata": {},
   "outputs": [
    {
     "data": {
      "text/plain": [
       "Index(['Preço da venda', 'Zona', 'Qualidade do Aquecimento',\n",
       "       'Número de Quartos', 'Área da Garagem', 'Área do Lote',\n",
       "       'Número de Banheiros', 'Idade do Imóvel', 'Alta Densidade Residencial',\n",
       "       'Baixa Densidade Residencial', 'Comercial',\n",
       "       'Média Densidade Residencial', 'Vila Flutuante Residencial', 'Bom',\n",
       "       'Excelente', 'Médio', 'Razoável', 'Ruim',\n",
       "       'Qualidade do acabamento do porão', 'Acabamento da Garagem'],\n",
       "      dtype='object')"
      ]
     },
     "execution_count": 39,
     "metadata": {},
     "output_type": "execute_result"
    }
   ],
   "source": [
    "df.columns"
   ]
  },
  {
   "cell_type": "code",
   "execution_count": 40,
   "id": "260dfd08",
   "metadata": {
    "scrolled": true
   },
   "outputs": [
    {
     "data": {
      "text/plain": [
       "Index(['Preço da venda', 'Número de Quartos', 'Área da Garagem',\n",
       "       'Área do Lote', 'Número de Banheiros', 'Idade do Imóvel',\n",
       "       'Alta Densidade Residencial', 'Baixa Densidade Residencial',\n",
       "       'Comercial', 'Média Densidade Residencial',\n",
       "       'Vila Flutuante Residencial', 'Bom', 'Excelente', 'Médio', 'Razoável',\n",
       "       'Ruim'],\n",
       "      dtype='object')"
      ]
     },
     "execution_count": 40,
     "metadata": {},
     "output_type": "execute_result"
    }
   ],
   "source": [
    "# Verifico quais sao as variaveis nao categoricas\n",
    "objects = ['object']\n",
    "df_numerical = df.select_dtypes(exclude=objects)\n",
    "colunas_para_LDA = df_numerical.columns\n",
    "colunas_para_LDA"
   ]
  },
  {
   "cell_type": "markdown",
   "id": "8c5f5b3a",
   "metadata": {},
   "source": [
    "# Verificar Pressupostos do LDA\n",
    "- Normalidade multivariada Acho que OK!\n",
    "- Linearidade\n",
    "- Ausência de outliers OK, só retirei os outliers!\n",
    "- Ausência de multicolinearidade  (Conclusão: precisei descartar vários atributos - através do VIF - variance inflation factor - fator de inflação de variância)\n",
    "- Homogeneidade das matrizes de variância/co-variância (Teria que usar função BoxM do R -> não fiz isso)"
   ]
  },
  {
   "cell_type": "code",
   "execution_count": 41,
   "id": "0a371748",
   "metadata": {},
   "outputs": [
    {
     "data": {
      "text/plain": [
       "Index(['Preço da venda', 'Número de Quartos', 'Área da Garagem',\n",
       "       'Área do Lote', 'Número de Banheiros', 'Idade do Imóvel',\n",
       "       'Alta Densidade Residencial', 'Baixa Densidade Residencial',\n",
       "       'Comercial', 'Média Densidade Residencial',\n",
       "       'Vila Flutuante Residencial', 'Bom', 'Excelente', 'Médio', 'Razoável',\n",
       "       'Ruim'],\n",
       "      dtype='object')"
      ]
     },
     "execution_count": 41,
     "metadata": {},
     "output_type": "execute_result"
    }
   ],
   "source": [
    "colunas_para_LDA"
   ]
  },
  {
   "cell_type": "markdown",
   "id": "76161ba5",
   "metadata": {},
   "source": [
    "### Ausência de multicolinearidade (Conclusão: precisei descartar vários atributos)"
   ]
  },
  {
   "cell_type": "code",
   "execution_count": 42,
   "id": "9cc221cc",
   "metadata": {},
   "outputs": [
    {
     "name": "stderr",
     "output_type": "stream",
     "text": [
      "/Users/yamada/miniconda3/envs/.venv/lib/python3.9/site-packages/statsmodels/stats/outliers_influence.py:193: RuntimeWarning: divide by zero encountered in double_scalars\n",
      "  vif = 1. / (1. - r_squared_i)\n"
     ]
    },
    {
     "data": {
      "text/html": [
       "<div>\n",
       "<style scoped>\n",
       "    .dataframe tbody tr th:only-of-type {\n",
       "        vertical-align: middle;\n",
       "    }\n",
       "\n",
       "    .dataframe tbody tr th {\n",
       "        vertical-align: top;\n",
       "    }\n",
       "\n",
       "    .dataframe thead th {\n",
       "        text-align: right;\n",
       "    }\n",
       "</style>\n",
       "<table border=\"1\" class=\"dataframe\">\n",
       "  <thead>\n",
       "    <tr style=\"text-align: right;\">\n",
       "      <th></th>\n",
       "      <th>VIF</th>\n",
       "      <th>Atributo</th>\n",
       "    </tr>\n",
       "  </thead>\n",
       "  <tbody>\n",
       "    <tr>\n",
       "      <th>0</th>\n",
       "      <td>1.560332</td>\n",
       "      <td>Preço da venda</td>\n",
       "    </tr>\n",
       "    <tr>\n",
       "      <th>1</th>\n",
       "      <td>1.313615</td>\n",
       "      <td>Número de Quartos</td>\n",
       "    </tr>\n",
       "    <tr>\n",
       "      <th>2</th>\n",
       "      <td>1.555471</td>\n",
       "      <td>Área da Garagem</td>\n",
       "    </tr>\n",
       "    <tr>\n",
       "      <th>3</th>\n",
       "      <td>1.187081</td>\n",
       "      <td>Área do Lote</td>\n",
       "    </tr>\n",
       "    <tr>\n",
       "      <th>4</th>\n",
       "      <td>1.773849</td>\n",
       "      <td>Número de Banheiros</td>\n",
       "    </tr>\n",
       "    <tr>\n",
       "      <th>5</th>\n",
       "      <td>2.118099</td>\n",
       "      <td>Idade do Imóvel</td>\n",
       "    </tr>\n",
       "    <tr>\n",
       "      <th>6</th>\n",
       "      <td>inf</td>\n",
       "      <td>Alta Densidade Residencial</td>\n",
       "    </tr>\n",
       "    <tr>\n",
       "      <th>7</th>\n",
       "      <td>inf</td>\n",
       "      <td>Baixa Densidade Residencial</td>\n",
       "    </tr>\n",
       "    <tr>\n",
       "      <th>8</th>\n",
       "      <td>inf</td>\n",
       "      <td>Comercial</td>\n",
       "    </tr>\n",
       "    <tr>\n",
       "      <th>9</th>\n",
       "      <td>inf</td>\n",
       "      <td>Média Densidade Residencial</td>\n",
       "    </tr>\n",
       "    <tr>\n",
       "      <th>10</th>\n",
       "      <td>inf</td>\n",
       "      <td>Vila Flutuante Residencial</td>\n",
       "    </tr>\n",
       "    <tr>\n",
       "      <th>11</th>\n",
       "      <td>inf</td>\n",
       "      <td>Bom</td>\n",
       "    </tr>\n",
       "    <tr>\n",
       "      <th>12</th>\n",
       "      <td>inf</td>\n",
       "      <td>Excelente</td>\n",
       "    </tr>\n",
       "    <tr>\n",
       "      <th>13</th>\n",
       "      <td>inf</td>\n",
       "      <td>Médio</td>\n",
       "    </tr>\n",
       "    <tr>\n",
       "      <th>14</th>\n",
       "      <td>inf</td>\n",
       "      <td>Razoável</td>\n",
       "    </tr>\n",
       "    <tr>\n",
       "      <th>15</th>\n",
       "      <td>inf</td>\n",
       "      <td>Ruim</td>\n",
       "    </tr>\n",
       "  </tbody>\n",
       "</table>\n",
       "</div>"
      ],
      "text/plain": [
       "         VIF                     Atributo\n",
       "0   1.560332               Preço da venda\n",
       "1   1.313615            Número de Quartos\n",
       "2   1.555471              Área da Garagem\n",
       "3   1.187081                 Área do Lote\n",
       "4   1.773849          Número de Banheiros\n",
       "5   2.118099              Idade do Imóvel\n",
       "6        inf   Alta Densidade Residencial\n",
       "7        inf  Baixa Densidade Residencial\n",
       "8        inf                    Comercial\n",
       "9        inf  Média Densidade Residencial\n",
       "10       inf   Vila Flutuante Residencial\n",
       "11       inf                          Bom\n",
       "12       inf                    Excelente\n",
       "13       inf                        Médio\n",
       "14       inf                     Razoável\n",
       "15       inf                         Ruim"
      ]
     },
     "execution_count": 42,
     "metadata": {},
     "output_type": "execute_result"
    }
   ],
   "source": [
    "vif = pd.DataFrame()\n",
    "vif['VIF'] = [variance_inflation_factor(df[colunas_para_LDA].to_numpy(), i) for i in range(df[colunas_para_LDA].shape[1])]\n",
    "vif['Atributo'] = colunas_para_LDA\n",
    "vif"
   ]
  },
  {
   "cell_type": "markdown",
   "id": "54986ef3",
   "metadata": {},
   "source": [
    "- VIF = 1: indica que não há correlação entre uma determinada variável explicativa e quaisquer outras variáveis explicativas no modelo.\n",
    "- 1 < VIF <= 5: indica correlação moderada entre uma determinada variável explicativa e outras variáveis explicativas no modelo, mas isso geralmente não é severo o suficiente para requerer atenção.\n",
    "- VIF > 5: Um valor maior que 5 indica correlação potencialmente severa entre uma determinada variável explicativa e outras variáveis explicativas no modelo. Nesse caso, as estimativas de coeficiente e os valores de p na saída da regressão provavelmente não são confiáveis."
   ]
  },
  {
   "cell_type": "code",
   "execution_count": 43,
   "id": "3c14227d",
   "metadata": {},
   "outputs": [
    {
     "name": "stderr",
     "output_type": "stream",
     "text": [
      "/Users/yamada/miniconda3/envs/.venv/lib/python3.9/site-packages/statsmodels/stats/outliers_influence.py:193: RuntimeWarning: divide by zero encountered in double_scalars\n",
      "  vif = 1. / (1. - r_squared_i)\n"
     ]
    },
    {
     "data": {
      "text/html": [
       "<div>\n",
       "<style scoped>\n",
       "    .dataframe tbody tr th:only-of-type {\n",
       "        vertical-align: middle;\n",
       "    }\n",
       "\n",
       "    .dataframe tbody tr th {\n",
       "        vertical-align: top;\n",
       "    }\n",
       "\n",
       "    .dataframe thead th {\n",
       "        text-align: right;\n",
       "    }\n",
       "</style>\n",
       "<table border=\"1\" class=\"dataframe\">\n",
       "  <thead>\n",
       "    <tr style=\"text-align: right;\">\n",
       "      <th></th>\n",
       "      <th>VIF</th>\n",
       "      <th>Atributo</th>\n",
       "    </tr>\n",
       "  </thead>\n",
       "  <tbody>\n",
       "    <tr>\n",
       "      <th>0</th>\n",
       "      <td>2.920678</td>\n",
       "      <td>Área da Garagem</td>\n",
       "    </tr>\n",
       "    <tr>\n",
       "      <th>1</th>\n",
       "      <td>2.886081</td>\n",
       "      <td>Área do Lote</td>\n",
       "    </tr>\n",
       "    <tr>\n",
       "      <th>2</th>\n",
       "      <td>3.437154</td>\n",
       "      <td>Idade do Imóvel</td>\n",
       "    </tr>\n",
       "    <tr>\n",
       "      <th>3</th>\n",
       "      <td>1.053198</td>\n",
       "      <td>Comercial</td>\n",
       "    </tr>\n",
       "    <tr>\n",
       "      <th>4</th>\n",
       "      <td>1.525701</td>\n",
       "      <td>Média Densidade Residencial</td>\n",
       "    </tr>\n",
       "    <tr>\n",
       "      <th>5</th>\n",
       "      <td>1.101495</td>\n",
       "      <td>Vila Flutuante Residencial</td>\n",
       "    </tr>\n",
       "    <tr>\n",
       "      <th>6</th>\n",
       "      <td>1.425561</td>\n",
       "      <td>Bom</td>\n",
       "    </tr>\n",
       "    <tr>\n",
       "      <th>7</th>\n",
       "      <td>1.851966</td>\n",
       "      <td>Médio</td>\n",
       "    </tr>\n",
       "    <tr>\n",
       "      <th>8</th>\n",
       "      <td>1.142929</td>\n",
       "      <td>Razoável</td>\n",
       "    </tr>\n",
       "    <tr>\n",
       "      <th>9</th>\n",
       "      <td>1.006357</td>\n",
       "      <td>Ruim</td>\n",
       "    </tr>\n",
       "  </tbody>\n",
       "</table>\n",
       "</div>"
      ],
      "text/plain": [
       "        VIF                     Atributo\n",
       "0  2.920678              Área da Garagem\n",
       "1  2.886081                 Área do Lote\n",
       "2  3.437154              Idade do Imóvel\n",
       "3  1.053198                    Comercial\n",
       "4  1.525701  Média Densidade Residencial\n",
       "5  1.101495   Vila Flutuante Residencial\n",
       "6  1.425561                          Bom\n",
       "7  1.851966                        Médio\n",
       "8  1.142929                     Razoável\n",
       "9  1.006357                         Ruim"
      ]
     },
     "execution_count": 43,
     "metadata": {},
     "output_type": "execute_result"
    }
   ],
   "source": [
    "novas_colunas = colunas_para_LDA.copy()\n",
    "\n",
    "while True:\n",
    "    vif = pd.DataFrame()\n",
    "    vif['VIF'] = [variance_inflation_factor(df[novas_colunas].to_numpy(), i) for i in range(df[novas_colunas].shape[1])]\n",
    "    vif['Atributo'] = novas_colunas\n",
    "    id_excluir = vif['VIF'].idxmax()\n",
    "    if vif['VIF'].max() > 5:\n",
    "        novas_colunas = novas_colunas.drop(novas_colunas[id_excluir])\n",
    "    else:\n",
    "        break\n",
    "vif"
   ]
  },
  {
   "cell_type": "markdown",
   "id": "b8bb65cb",
   "metadata": {},
   "source": [
    "### Ausência de outliers: Há outliers...eu tiro após a análise de multicolinearidade"
   ]
  },
  {
   "cell_type": "code",
   "execution_count": 44,
   "id": "8320f4ba",
   "metadata": {},
   "outputs": [
    {
     "data": {
      "text/html": [
       "<div>\n",
       "<style scoped>\n",
       "    .dataframe tbody tr th:only-of-type {\n",
       "        vertical-align: middle;\n",
       "    }\n",
       "\n",
       "    .dataframe tbody tr th {\n",
       "        vertical-align: top;\n",
       "    }\n",
       "\n",
       "    .dataframe thead th {\n",
       "        text-align: right;\n",
       "    }\n",
       "</style>\n",
       "<table border=\"1\" class=\"dataframe\">\n",
       "  <thead>\n",
       "    <tr style=\"text-align: right;\">\n",
       "      <th></th>\n",
       "      <th>Área da Garagem</th>\n",
       "      <th>Área do Lote</th>\n",
       "      <th>Idade do Imóvel</th>\n",
       "      <th>Comercial</th>\n",
       "      <th>Média Densidade Residencial</th>\n",
       "      <th>Vila Flutuante Residencial</th>\n",
       "      <th>Bom</th>\n",
       "      <th>Médio</th>\n",
       "      <th>Razoável</th>\n",
       "      <th>Ruim</th>\n",
       "    </tr>\n",
       "  </thead>\n",
       "  <tbody>\n",
       "    <tr>\n",
       "      <th>0</th>\n",
       "      <td>548.0</td>\n",
       "      <td>8450</td>\n",
       "      <td>5</td>\n",
       "      <td>0</td>\n",
       "      <td>0</td>\n",
       "      <td>0</td>\n",
       "      <td>0</td>\n",
       "      <td>0</td>\n",
       "      <td>0</td>\n",
       "      <td>0</td>\n",
       "    </tr>\n",
       "    <tr>\n",
       "      <th>1</th>\n",
       "      <td>460.0</td>\n",
       "      <td>9600</td>\n",
       "      <td>31</td>\n",
       "      <td>0</td>\n",
       "      <td>0</td>\n",
       "      <td>0</td>\n",
       "      <td>0</td>\n",
       "      <td>0</td>\n",
       "      <td>0</td>\n",
       "      <td>0</td>\n",
       "    </tr>\n",
       "    <tr>\n",
       "      <th>2</th>\n",
       "      <td>608.0</td>\n",
       "      <td>11250</td>\n",
       "      <td>7</td>\n",
       "      <td>0</td>\n",
       "      <td>0</td>\n",
       "      <td>0</td>\n",
       "      <td>0</td>\n",
       "      <td>0</td>\n",
       "      <td>0</td>\n",
       "      <td>0</td>\n",
       "    </tr>\n",
       "    <tr>\n",
       "      <th>3</th>\n",
       "      <td>642.0</td>\n",
       "      <td>9550</td>\n",
       "      <td>91</td>\n",
       "      <td>0</td>\n",
       "      <td>0</td>\n",
       "      <td>0</td>\n",
       "      <td>1</td>\n",
       "      <td>0</td>\n",
       "      <td>0</td>\n",
       "      <td>0</td>\n",
       "    </tr>\n",
       "    <tr>\n",
       "      <th>4</th>\n",
       "      <td>836.0</td>\n",
       "      <td>14260</td>\n",
       "      <td>8</td>\n",
       "      <td>0</td>\n",
       "      <td>0</td>\n",
       "      <td>0</td>\n",
       "      <td>0</td>\n",
       "      <td>0</td>\n",
       "      <td>0</td>\n",
       "      <td>0</td>\n",
       "    </tr>\n",
       "    <tr>\n",
       "      <th>...</th>\n",
       "      <td>...</td>\n",
       "      <td>...</td>\n",
       "      <td>...</td>\n",
       "      <td>...</td>\n",
       "      <td>...</td>\n",
       "      <td>...</td>\n",
       "      <td>...</td>\n",
       "      <td>...</td>\n",
       "      <td>...</td>\n",
       "      <td>...</td>\n",
       "    </tr>\n",
       "    <tr>\n",
       "      <th>2914</th>\n",
       "      <td>0.0</td>\n",
       "      <td>1936</td>\n",
       "      <td>36</td>\n",
       "      <td>0</td>\n",
       "      <td>1</td>\n",
       "      <td>0</td>\n",
       "      <td>1</td>\n",
       "      <td>0</td>\n",
       "      <td>0</td>\n",
       "      <td>0</td>\n",
       "    </tr>\n",
       "    <tr>\n",
       "      <th>2915</th>\n",
       "      <td>286.0</td>\n",
       "      <td>1894</td>\n",
       "      <td>36</td>\n",
       "      <td>0</td>\n",
       "      <td>1</td>\n",
       "      <td>0</td>\n",
       "      <td>0</td>\n",
       "      <td>1</td>\n",
       "      <td>0</td>\n",
       "      <td>0</td>\n",
       "    </tr>\n",
       "    <tr>\n",
       "      <th>2916</th>\n",
       "      <td>576.0</td>\n",
       "      <td>20000</td>\n",
       "      <td>46</td>\n",
       "      <td>0</td>\n",
       "      <td>0</td>\n",
       "      <td>0</td>\n",
       "      <td>0</td>\n",
       "      <td>0</td>\n",
       "      <td>0</td>\n",
       "      <td>0</td>\n",
       "    </tr>\n",
       "    <tr>\n",
       "      <th>2917</th>\n",
       "      <td>0.0</td>\n",
       "      <td>10441</td>\n",
       "      <td>14</td>\n",
       "      <td>0</td>\n",
       "      <td>0</td>\n",
       "      <td>0</td>\n",
       "      <td>0</td>\n",
       "      <td>1</td>\n",
       "      <td>0</td>\n",
       "      <td>0</td>\n",
       "    </tr>\n",
       "    <tr>\n",
       "      <th>2918</th>\n",
       "      <td>650.0</td>\n",
       "      <td>9627</td>\n",
       "      <td>13</td>\n",
       "      <td>0</td>\n",
       "      <td>0</td>\n",
       "      <td>0</td>\n",
       "      <td>0</td>\n",
       "      <td>0</td>\n",
       "      <td>0</td>\n",
       "      <td>0</td>\n",
       "    </tr>\n",
       "  </tbody>\n",
       "</table>\n",
       "<p>2914 rows × 10 columns</p>\n",
       "</div>"
      ],
      "text/plain": [
       "      Área da Garagem  Área do Lote  Idade do Imóvel  Comercial  \\\n",
       "0               548.0          8450                5          0   \n",
       "1               460.0          9600               31          0   \n",
       "2               608.0         11250                7          0   \n",
       "3               642.0          9550               91          0   \n",
       "4               836.0         14260                8          0   \n",
       "...               ...           ...              ...        ...   \n",
       "2914              0.0          1936               36          0   \n",
       "2915            286.0          1894               36          0   \n",
       "2916            576.0         20000               46          0   \n",
       "2917              0.0         10441               14          0   \n",
       "2918            650.0          9627               13          0   \n",
       "\n",
       "      Média Densidade Residencial  Vila Flutuante Residencial  Bom  Médio  \\\n",
       "0                               0                           0    0      0   \n",
       "1                               0                           0    0      0   \n",
       "2                               0                           0    0      0   \n",
       "3                               0                           0    1      0   \n",
       "4                               0                           0    0      0   \n",
       "...                           ...                         ...  ...    ...   \n",
       "2914                            1                           0    1      0   \n",
       "2915                            1                           0    0      1   \n",
       "2916                            0                           0    0      0   \n",
       "2917                            0                           0    0      1   \n",
       "2918                            0                           0    0      0   \n",
       "\n",
       "      Razoável  Ruim  \n",
       "0            0     0  \n",
       "1            0     0  \n",
       "2            0     0  \n",
       "3            0     0  \n",
       "4            0     0  \n",
       "...        ...   ...  \n",
       "2914         0     0  \n",
       "2915         0     0  \n",
       "2916         0     0  \n",
       "2917         0     0  \n",
       "2918         0     0  \n",
       "\n",
       "[2914 rows x 10 columns]"
      ]
     },
     "execution_count": 44,
     "metadata": {},
     "output_type": "execute_result"
    }
   ],
   "source": [
    "df[novas_colunas]"
   ]
  },
  {
   "cell_type": "code",
   "execution_count": 45,
   "id": "2b35e38c",
   "metadata": {},
   "outputs": [
    {
     "data": {
      "text/plain": [
       "array([1, 1, 1, ..., 1, 1, 1])"
      ]
     },
     "execution_count": 45,
     "metadata": {},
     "output_type": "execute_result"
    }
   ],
   "source": [
    "# IsolationForest(,0.1)\n",
    "iso = IsolationForest(contamination=0.1)\n",
    "yhat = iso.fit_predict(df[novas_colunas])\n",
    "yhat"
   ]
  },
  {
   "cell_type": "code",
   "execution_count": 46,
   "id": "6746c409",
   "metadata": {},
   "outputs": [
    {
     "data": {
      "text/html": [
       "<div>\n",
       "<style scoped>\n",
       "    .dataframe tbody tr th:only-of-type {\n",
       "        vertical-align: middle;\n",
       "    }\n",
       "\n",
       "    .dataframe tbody tr th {\n",
       "        vertical-align: top;\n",
       "    }\n",
       "\n",
       "    .dataframe thead th {\n",
       "        text-align: right;\n",
       "    }\n",
       "</style>\n",
       "<table border=\"1\" class=\"dataframe\">\n",
       "  <thead>\n",
       "    <tr style=\"text-align: right;\">\n",
       "      <th></th>\n",
       "      <th>Área da Garagem</th>\n",
       "      <th>Área do Lote</th>\n",
       "      <th>Idade do Imóvel</th>\n",
       "      <th>Comercial</th>\n",
       "      <th>Média Densidade Residencial</th>\n",
       "      <th>Vila Flutuante Residencial</th>\n",
       "      <th>Bom</th>\n",
       "      <th>Médio</th>\n",
       "      <th>Razoável</th>\n",
       "      <th>Ruim</th>\n",
       "    </tr>\n",
       "  </thead>\n",
       "  <tbody>\n",
       "    <tr>\n",
       "      <th>0</th>\n",
       "      <td>548.0</td>\n",
       "      <td>8450</td>\n",
       "      <td>5</td>\n",
       "      <td>0</td>\n",
       "      <td>0</td>\n",
       "      <td>0</td>\n",
       "      <td>0</td>\n",
       "      <td>0</td>\n",
       "      <td>0</td>\n",
       "      <td>0</td>\n",
       "    </tr>\n",
       "    <tr>\n",
       "      <th>1</th>\n",
       "      <td>460.0</td>\n",
       "      <td>9600</td>\n",
       "      <td>31</td>\n",
       "      <td>0</td>\n",
       "      <td>0</td>\n",
       "      <td>0</td>\n",
       "      <td>0</td>\n",
       "      <td>0</td>\n",
       "      <td>0</td>\n",
       "      <td>0</td>\n",
       "    </tr>\n",
       "    <tr>\n",
       "      <th>2</th>\n",
       "      <td>608.0</td>\n",
       "      <td>11250</td>\n",
       "      <td>7</td>\n",
       "      <td>0</td>\n",
       "      <td>0</td>\n",
       "      <td>0</td>\n",
       "      <td>0</td>\n",
       "      <td>0</td>\n",
       "      <td>0</td>\n",
       "      <td>0</td>\n",
       "    </tr>\n",
       "    <tr>\n",
       "      <th>3</th>\n",
       "      <td>642.0</td>\n",
       "      <td>9550</td>\n",
       "      <td>91</td>\n",
       "      <td>0</td>\n",
       "      <td>0</td>\n",
       "      <td>0</td>\n",
       "      <td>1</td>\n",
       "      <td>0</td>\n",
       "      <td>0</td>\n",
       "      <td>0</td>\n",
       "    </tr>\n",
       "    <tr>\n",
       "      <th>4</th>\n",
       "      <td>836.0</td>\n",
       "      <td>14260</td>\n",
       "      <td>8</td>\n",
       "      <td>0</td>\n",
       "      <td>0</td>\n",
       "      <td>0</td>\n",
       "      <td>0</td>\n",
       "      <td>0</td>\n",
       "      <td>0</td>\n",
       "      <td>0</td>\n",
       "    </tr>\n",
       "    <tr>\n",
       "      <th>...</th>\n",
       "      <td>...</td>\n",
       "      <td>...</td>\n",
       "      <td>...</td>\n",
       "      <td>...</td>\n",
       "      <td>...</td>\n",
       "      <td>...</td>\n",
       "      <td>...</td>\n",
       "      <td>...</td>\n",
       "      <td>...</td>\n",
       "      <td>...</td>\n",
       "    </tr>\n",
       "    <tr>\n",
       "      <th>2912</th>\n",
       "      <td>286.0</td>\n",
       "      <td>1533</td>\n",
       "      <td>36</td>\n",
       "      <td>0</td>\n",
       "      <td>1</td>\n",
       "      <td>0</td>\n",
       "      <td>0</td>\n",
       "      <td>1</td>\n",
       "      <td>0</td>\n",
       "      <td>0</td>\n",
       "    </tr>\n",
       "    <tr>\n",
       "      <th>2915</th>\n",
       "      <td>286.0</td>\n",
       "      <td>1894</td>\n",
       "      <td>36</td>\n",
       "      <td>0</td>\n",
       "      <td>1</td>\n",
       "      <td>0</td>\n",
       "      <td>0</td>\n",
       "      <td>1</td>\n",
       "      <td>0</td>\n",
       "      <td>0</td>\n",
       "    </tr>\n",
       "    <tr>\n",
       "      <th>2916</th>\n",
       "      <td>576.0</td>\n",
       "      <td>20000</td>\n",
       "      <td>46</td>\n",
       "      <td>0</td>\n",
       "      <td>0</td>\n",
       "      <td>0</td>\n",
       "      <td>0</td>\n",
       "      <td>0</td>\n",
       "      <td>0</td>\n",
       "      <td>0</td>\n",
       "    </tr>\n",
       "    <tr>\n",
       "      <th>2917</th>\n",
       "      <td>0.0</td>\n",
       "      <td>10441</td>\n",
       "      <td>14</td>\n",
       "      <td>0</td>\n",
       "      <td>0</td>\n",
       "      <td>0</td>\n",
       "      <td>0</td>\n",
       "      <td>1</td>\n",
       "      <td>0</td>\n",
       "      <td>0</td>\n",
       "    </tr>\n",
       "    <tr>\n",
       "      <th>2918</th>\n",
       "      <td>650.0</td>\n",
       "      <td>9627</td>\n",
       "      <td>13</td>\n",
       "      <td>0</td>\n",
       "      <td>0</td>\n",
       "      <td>0</td>\n",
       "      <td>0</td>\n",
       "      <td>0</td>\n",
       "      <td>0</td>\n",
       "      <td>0</td>\n",
       "    </tr>\n",
       "  </tbody>\n",
       "</table>\n",
       "<p>2622 rows × 10 columns</p>\n",
       "</div>"
      ],
      "text/plain": [
       "      Área da Garagem  Área do Lote  Idade do Imóvel  Comercial  \\\n",
       "0               548.0          8450                5          0   \n",
       "1               460.0          9600               31          0   \n",
       "2               608.0         11250                7          0   \n",
       "3               642.0          9550               91          0   \n",
       "4               836.0         14260                8          0   \n",
       "...               ...           ...              ...        ...   \n",
       "2912            286.0          1533               36          0   \n",
       "2915            286.0          1894               36          0   \n",
       "2916            576.0         20000               46          0   \n",
       "2917              0.0         10441               14          0   \n",
       "2918            650.0          9627               13          0   \n",
       "\n",
       "      Média Densidade Residencial  Vila Flutuante Residencial  Bom  Médio  \\\n",
       "0                               0                           0    0      0   \n",
       "1                               0                           0    0      0   \n",
       "2                               0                           0    0      0   \n",
       "3                               0                           0    1      0   \n",
       "4                               0                           0    0      0   \n",
       "...                           ...                         ...  ...    ...   \n",
       "2912                            1                           0    0      1   \n",
       "2915                            1                           0    0      1   \n",
       "2916                            0                           0    0      0   \n",
       "2917                            0                           0    0      1   \n",
       "2918                            0                           0    0      0   \n",
       "\n",
       "      Razoável  Ruim  \n",
       "0            0     0  \n",
       "1            0     0  \n",
       "2            0     0  \n",
       "3            0     0  \n",
       "4            0     0  \n",
       "...        ...   ...  \n",
       "2912         0     0  \n",
       "2915         0     0  \n",
       "2916         0     0  \n",
       "2917         0     0  \n",
       "2918         0     0  \n",
       "\n",
       "[2622 rows x 10 columns]"
      ]
     },
     "execution_count": 46,
     "metadata": {},
     "output_type": "execute_result"
    }
   ],
   "source": [
    "df_para_LDA = df[novas_colunas][yhat == 1]\n",
    "df_para_LDA"
   ]
  },
  {
   "cell_type": "markdown",
   "id": "206811ca",
   "metadata": {},
   "source": [
    "### Normalidade multivariada (Não há)"
   ]
  },
  {
   "cell_type": "markdown",
   "id": "b50f15a1",
   "metadata": {},
   "source": [
    "Todos os testes deram com pValue <= 5%, portanto, rejeito H0, ou seja, nenhuma distribuição é próxima de uma curva normal"
   ]
  },
  {
   "cell_type": "code",
   "execution_count": 47,
   "id": "d74b38a4",
   "metadata": {
    "scrolled": false
   },
   "outputs": [
    {
     "data": {
      "text/plain": [
       "[('Área da Garagem', KstestResult(statistic=0.967581998474447, pvalue=0.0)),\n",
       " ('Área do Lote', KstestResult(statistic=1.0, pvalue=0.0)),\n",
       " ('Idade do Imóvel', KstestResult(statistic=0.8544428505079611, pvalue=0.0)),\n",
       " ('Comercial', KstestResult(statistic=0.5, pvalue=0.0)),\n",
       " ('Média Densidade Residencial', KstestResult(statistic=0.5, pvalue=0.0)),\n",
       " ('Vila Flutuante Residencial', KstestResult(statistic=0.5, pvalue=0.0)),\n",
       " ('Bom', KstestResult(statistic=0.5, pvalue=0.0)),\n",
       " ('Médio', KstestResult(statistic=0.5, pvalue=0.0)),\n",
       " ('Razoável', KstestResult(statistic=0.5, pvalue=0.0)),\n",
       " ('Ruim', KstestResult(statistic=0.5, pvalue=0.0))]"
      ]
     },
     "execution_count": 47,
     "metadata": {},
     "output_type": "execute_result"
    }
   ],
   "source": [
    "# Teste da Normalidade multivariada\n",
    "tabela_kstest = []\n",
    "for atributo in df_para_LDA.columns:\n",
    "    #Para teste de Normalidade usarei o teste de Kolmogorov-Smirnov (Aula MQA-Pressupostos, slide 11)\n",
    "    tabela_kstest.append((atributo, kstest(df_para_LDA[atributo].to_numpy(), 'norm', N=100)))\n",
    "tabela_kstest"
   ]
  },
  {
   "cell_type": "code",
   "execution_count": 48,
   "id": "9acf6a46",
   "metadata": {},
   "outputs": [
    {
     "data": {
      "text/html": [
       "<div>\n",
       "<style scoped>\n",
       "    .dataframe tbody tr th:only-of-type {\n",
       "        vertical-align: middle;\n",
       "    }\n",
       "\n",
       "    .dataframe tbody tr th {\n",
       "        vertical-align: top;\n",
       "    }\n",
       "\n",
       "    .dataframe thead th {\n",
       "        text-align: right;\n",
       "    }\n",
       "</style>\n",
       "<table border=\"1\" class=\"dataframe\">\n",
       "  <thead>\n",
       "    <tr style=\"text-align: right;\">\n",
       "      <th></th>\n",
       "      <th>Atributo</th>\n",
       "      <th>(Static,pValue)</th>\n",
       "    </tr>\n",
       "  </thead>\n",
       "  <tbody>\n",
       "    <tr>\n",
       "      <th>0</th>\n",
       "      <td>Área da Garagem</td>\n",
       "      <td>(0.967581998474447, 0.0)</td>\n",
       "    </tr>\n",
       "    <tr>\n",
       "      <th>1</th>\n",
       "      <td>Área do Lote</td>\n",
       "      <td>(1.0, 0.0)</td>\n",
       "    </tr>\n",
       "    <tr>\n",
       "      <th>2</th>\n",
       "      <td>Idade do Imóvel</td>\n",
       "      <td>(0.8544428505079611, 0.0)</td>\n",
       "    </tr>\n",
       "    <tr>\n",
       "      <th>3</th>\n",
       "      <td>Comercial</td>\n",
       "      <td>(0.5, 0.0)</td>\n",
       "    </tr>\n",
       "    <tr>\n",
       "      <th>4</th>\n",
       "      <td>Média Densidade Residencial</td>\n",
       "      <td>(0.5, 0.0)</td>\n",
       "    </tr>\n",
       "    <tr>\n",
       "      <th>5</th>\n",
       "      <td>Vila Flutuante Residencial</td>\n",
       "      <td>(0.5, 0.0)</td>\n",
       "    </tr>\n",
       "    <tr>\n",
       "      <th>6</th>\n",
       "      <td>Bom</td>\n",
       "      <td>(0.5, 0.0)</td>\n",
       "    </tr>\n",
       "    <tr>\n",
       "      <th>7</th>\n",
       "      <td>Médio</td>\n",
       "      <td>(0.5, 0.0)</td>\n",
       "    </tr>\n",
       "    <tr>\n",
       "      <th>8</th>\n",
       "      <td>Razoável</td>\n",
       "      <td>(0.5, 0.0)</td>\n",
       "    </tr>\n",
       "    <tr>\n",
       "      <th>9</th>\n",
       "      <td>Ruim</td>\n",
       "      <td>(0.5, 0.0)</td>\n",
       "    </tr>\n",
       "  </tbody>\n",
       "</table>\n",
       "</div>"
      ],
      "text/plain": [
       "                      Atributo            (Static,pValue)\n",
       "0              Área da Garagem   (0.967581998474447, 0.0)\n",
       "1                 Área do Lote                 (1.0, 0.0)\n",
       "2              Idade do Imóvel  (0.8544428505079611, 0.0)\n",
       "3                    Comercial                 (0.5, 0.0)\n",
       "4  Média Densidade Residencial                 (0.5, 0.0)\n",
       "5   Vila Flutuante Residencial                 (0.5, 0.0)\n",
       "6                          Bom                 (0.5, 0.0)\n",
       "7                        Médio                 (0.5, 0.0)\n",
       "8                     Razoável                 (0.5, 0.0)\n",
       "9                         Ruim                 (0.5, 0.0)"
      ]
     },
     "execution_count": 48,
     "metadata": {},
     "output_type": "execute_result"
    }
   ],
   "source": [
    "pd.DataFrame(tabela_kstest,columns=['Atributo','(Static,pValue)'])"
   ]
  },
  {
   "cell_type": "code",
   "execution_count": 49,
   "id": "44992812",
   "metadata": {
    "scrolled": false
   },
   "outputs": [
    {
     "name": "stdout",
     "output_type": "stream",
     "text": [
      "KstestResult(statistic=0.967581998474447, pvalue=0.0)\n",
      "KstestResult(statistic=1.0, pvalue=0.0)\n",
      "KstestResult(statistic=0.8544428505079611, pvalue=0.0)\n",
      "KstestResult(statistic=0.5, pvalue=0.0)\n",
      "KstestResult(statistic=0.5, pvalue=0.0)\n",
      "KstestResult(statistic=0.5, pvalue=0.0)\n",
      "KstestResult(statistic=0.5, pvalue=0.0)\n",
      "KstestResult(statistic=0.5, pvalue=0.0)\n",
      "KstestResult(statistic=0.5, pvalue=0.0)\n",
      "KstestResult(statistic=0.5, pvalue=0.0)\n"
     ]
    }
   ],
   "source": [
    "# Teste da Normalidade multivariada\n",
    "for atributo in df_para_LDA.columns:\n",
    "    #Para teste de Normalidade usarei o teste de Kolmogorov-Smirnov (Aula MQA-Pressupostos, slide 11)\n",
    "    print(kstest(df_para_LDA[atributo].to_numpy(), 'norm', N=100))"
   ]
  },
  {
   "cell_type": "code",
   "execution_count": 50,
   "id": "5bddd110",
   "metadata": {
    "scrolled": true
   },
   "outputs": [
    {
     "data": {
      "image/png": "[encoded data removed]",
      "text/plain": [
       "<Figure size 432x288 with 1 Axes>"
      ]
     },
     "metadata": {
      "needs_background": "light"
     },
     "output_type": "display_data"
    },
    {
     "data": {
      "image/png": "[encoded data removed]",
      "text/plain": [
       "<Figure size 432x288 with 1 Axes>"
      ]
     },
     "metadata": {
      "needs_background": "light"
     },
     "output_type": "display_data"
    },
    {
     "data": {
      "image/png": "[encoded data removed]",
      "text/plain": [
       "<Figure size 432x288 with 1 Axes>"
      ]
     },
     "metadata": {
      "needs_background": "light"
     },
     "output_type": "display_data"
    },
    {
     "data": {
      "image/png": "[encoded data removed]",
      "text/plain": [
       "<Figure size 432x288 with 1 Axes>"
      ]
     },
     "metadata": {
      "needs_background": "light"
     },
     "output_type": "display_data"
    },
    {
     "data": {
      "image/png": "[encoded data removed]",
      "text/plain": [
       "<Figure size 432x288 with 1 Axes>"
      ]
     },
     "metadata": {
      "needs_background": "light"
     },
     "output_type": "display_data"
    },
    {
     "data": {
      "image/png": "[encoded data removed]",
      "text/plain": [
       "<Figure size 432x288 with 1 Axes>"
      ]
     },
     "metadata": {
      "needs_background": "light"
     },
     "output_type": "display_data"
    },
    {
     "data": {
      "image/png": "[encoded data removed]",
      "text/plain": [
       "<Figure size 432x288 with 1 Axes>"
      ]
     },
     "metadata": {
      "needs_background": "light"
     },
     "output_type": "display_data"
    },
    {
     "data": {
      "image/png": "[encoded data removed]",
      "text/plain": [
       "<Figure size 432x288 with 1 Axes>"
      ]
     },
     "metadata": {
      "needs_background": "light"
     },
     "output_type": "display_data"
    },
    {
     "data": {
      "image/png": "[encoded data removed]",
      "text/plain": [
       "<Figure size 432x288 with 1 Axes>"
      ]
     },
     "metadata": {
      "needs_background": "light"
     },
     "output_type": "display_data"
    },
    {
     "data": {
      "image/png": "[encoded data removed]",
      "text/plain": [
       "<Figure size 432x288 with 1 Axes>"
      ]
     },
     "metadata": {
      "needs_background": "light"
     },
     "output_type": "display_data"
    }
   ],
   "source": [
    "for atributo in df_para_LDA.columns:\n",
    "    df[atributo].plot(kind='hist')\n",
    "    plt.show()"
   ]
  },
  {
   "cell_type": "markdown",
   "id": "a9f970a5",
   "metadata": {},
   "source": [
    "## variável dependente: Qualidade do acabamento do porão"
   ]
  },
  {
   "cell_type": "code",
   "execution_count": 51,
   "id": "c4089795",
   "metadata": {},
   "outputs": [],
   "source": [
    "X = df_para_LDA.copy()\n",
    "y = df['Qualidade do acabamento do porão'].loc[df_para_LDA.index]"
   ]
  },
  {
   "cell_type": "code",
   "execution_count": 53,
   "id": "3f98e45e",
   "metadata": {},
   "outputs": [
    {
     "data": {
      "text/plain": [
       "LinearDiscriminantAnalysis()"
      ]
     },
     "execution_count": 53,
     "metadata": {},
     "output_type": "execute_result"
    }
   ],
   "source": [
    "# Uso metodo holdout para separar conjunto de treinamento e conjunto de teste\n",
    "X_train, X_test, y_train, y_test = train_test_split(X, y, test_size=0.25, random_state=1)\n",
    "\n",
    "# Instancio o modelo LDA\n",
    "lda = LinearDiscriminantAnalysis()\n",
    "\n",
    "# Executo o algoritmo o treinamento do modelo\n",
    "lda.fit(X_train, y_train)"
   ]
  },
  {
   "cell_type": "code",
   "execution_count": 55,
   "id": "cb666517",
   "metadata": {},
   "outputs": [
    {
     "data": {
      "image/png": "[encoded data removed]",
      "text/plain": [
       "<Figure size 432x288 with 2 Axes>"
      ]
     },
     "metadata": {
      "needs_background": "light"
     },
     "output_type": "display_data"
    }
   ],
   "source": [
    "y_pred = lda.predict(X_test)\n",
    "arr = confusion_matrix(y_test, y_pred)\n",
    "df_cm = pd.DataFrame(arr, columns=np.unique(y_test), index = np.unique(y_test))\n",
    "ax = sns.heatmap(df_cm, annot=True)\n",
    "# ax.set(xlabel='Dados Previstos', ylabel='Dados Reais',fontdict={'fontsize':14,'fontweight':'bold'})\n",
    "plt.xlabel(\"Dados Previstos\",fontdict = {'fontsize':14,'fontweight':'bold'})\n",
    "plt.ylabel(\"Dados Reais\",fontdict = {'fontsize':14,'fontweight':'bold'})\n",
    "sns.set(rc={'figure.figsize':(20,15)})\n",
    "plt.title(\"Matriz de Confusão usando Hold-Out para o modelo LDA\",fontdict = {'fontsize':17,'fontweight':'bold'})\n",
    "plt.show()"
   ]
  },
  {
   "cell_type": "code",
   "execution_count": 62,
   "id": "975f43b0",
   "metadata": {},
   "outputs": [
    {
     "name": "stdout",
     "output_type": "stream",
     "text": [
      "Acuracia LDA (Qualidade do Acabamento do Porão) Split Validation:  0.4024390243902439\n"
     ]
    }
   ],
   "source": [
    "print(\"Acuracia LDA (Qualidade do Acabamento do Porão) Split Validation: \", \n",
    "      (y_pred == y_test).sum()/y_test.shape[0])"
   ]
  },
  {
   "cell_type": "code",
   "execution_count": 63,
   "id": "f05ef2ff",
   "metadata": {},
   "outputs": [
    {
     "name": "stdout",
     "output_type": "stream",
     "text": [
      "Acuracia Média do Cross Validation (10 folds): 0.38606650782140267\n"
     ]
    }
   ],
   "source": [
    "# Separo conjunto de treinamento e teste para calculo da acuracidade real posterior\n",
    "X_train, X_test, y_train, y_test = train_test_split(X, y, test_size=0.25, random_state=1)\n",
    "\n",
    "# Separo em 10 folds\n",
    "scores = cross_val_score(lda, X_train, y_train, cv=10)\n",
    "print('Acuracia Média do Cross Validation (10 folds):', scores.mean())"
   ]
  },
  {
   "cell_type": "markdown",
   "id": "f6d5154d",
   "metadata": {},
   "source": [
    "## variável dependente: Acabamento da Garagem"
   ]
  },
  {
   "cell_type": "code",
   "execution_count": 64,
   "id": "334593e9",
   "metadata": {},
   "outputs": [
    {
     "data": {
      "image/png": "[encoded data removed]",
      "text/plain": [
       "<Figure size 1440x1080 with 2 Axes>"
      ]
     },
     "metadata": {},
     "output_type": "display_data"
    }
   ],
   "source": [
    "X = df_para_LDA.copy()\n",
    "y = df['Acabamento da Garagem'].loc[df_para_LDA.index]\n",
    "\n",
    "# Uso metodo holdout para separar conjunto de treinamento e conjunto de teste\n",
    "X_train, X_test, y_train, y_test = train_test_split(X, y, test_size=0.25, random_state=1)\n",
    "\n",
    "# Instancio o modelo LDA\n",
    "lda = LinearDiscriminantAnalysis()\n",
    "\n",
    "# Executo o algoritmo o treinamento do modelo\n",
    "lda.fit(X_train, y_train)\n",
    "\n",
    "y_pred = lda.predict(X_test)\n",
    "arr = confusion_matrix(y_test, y_pred)\n",
    "df_cm = pd.DataFrame(arr, columns=np.unique(y_test), index = np.unique(y_test))\n",
    "ax = sns.heatmap(df_cm, annot=True)\n",
    "plt.xlabel(\"Dados Previstos\",fontdict = {'fontsize':14,'fontweight':'bold'})\n",
    "plt.ylabel(\"Dados Reais\",fontdict = {'fontsize':14,'fontweight':'bold'})\n",
    "sns.set(rc={'figure.figsize':(11.7,8.27)})\n",
    "plt.title(\"Matriz de Confusão usando Hold-Out para o modelo LDA\",fontdict = {'fontsize':17,'fontweight':'bold'})\n",
    "plt.show()"
   ]
  },
  {
   "cell_type": "code",
   "execution_count": 66,
   "id": "f5d0adb8",
   "metadata": {},
   "outputs": [
    {
     "name": "stdout",
     "output_type": "stream",
     "text": [
      "Acuracia LDA (Acabamento da Garagem) Split Validation:  0.5777439024390244\n"
     ]
    }
   ],
   "source": [
    "print(\"Acuracia LDA (Acabamento da Garagem) Split Validation: \", \n",
    "      (y_pred == y_test).sum()/y_test.shape[0])"
   ]
  },
  {
   "cell_type": "code",
   "execution_count": 26,
   "id": "67a8e9b2",
   "metadata": {},
   "outputs": [
    {
     "name": "stdout",
     "output_type": "stream",
     "text": [
      "Acuracia Média do Cross Validation (10 folds): 0.6032425152802238\n"
     ]
    }
   ],
   "source": [
    "# Separo conjunto de treinamento e teste para calculo da acuracidade real posterior\n",
    "X_train, X_test, y_train, y_test = train_test_split(X, y, test_size=0.25, random_state=1)\n",
    "\n",
    "# Separo em 10 folds\n",
    "scores = cross_val_score(lda, X_train, y_train, cv=10)\n",
    "print('Acuracia Média do Cross Validation (10 folds):', scores.mean())"
   ]
  },
  {
   "cell_type": "code",
   "execution_count": null,
   "id": "40c79e42",
   "metadata": {},
   "outputs": [],
   "source": []
  }
 ],
 "metadata": {
  "kernelspec": {
   "display_name": "Python 3 (ipykernel)",
   "language": "python",
   "name": "python3"
  },
  "language_info": {
   "codemirror_mode": {
    "name": "ipython",
    "version": 3
   },
   "file_extension": ".py",
   "mimetype": "text/x-python",
   "name": "python",
   "nbconvert_exporter": "python",
   "pygments_lexer": "ipython3",
   "version": "3.9.6"
  }
 },
 "nbformat": 4,
 "nbformat_minor": 5
}
