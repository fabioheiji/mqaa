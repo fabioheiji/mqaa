{
 "cells": [
  {
   "cell_type": "code",
   "execution_count": 1,
   "id": "cd2b1c6d",
   "metadata": {},
   "outputs": [],
   "source": [
    "import matplotlib.pyplot as plt\n",
    "%matplotlib inline\n",
    "import pandas as pd\n",
    "import numpy as np"
   ]
  },
  {
   "cell_type": "markdown",
   "id": "704fccb4",
   "metadata": {},
   "source": [
    "## Importação dos dados"
   ]
  },
  {
   "cell_type": "code",
   "execution_count": 2,
   "id": "3acf79d7",
   "metadata": {
    "scrolled": true
   },
   "outputs": [],
   "source": [
    "path1 = 'train.csv'\n",
    "df1 = pd.read_csv(path1)\n",
    "path2 = 'test.csv'\n",
    "df2 = pd.read_csv(path2)\n",
    "path3 = 'sample_submission.csv'\n",
    "sales_test = pd.read_csv(path3)\n",
    "dfteste = df2.copy()\n",
    "df2.insert(df1.columns.shape[0]-1, \"SalePrice\", sales_test['SalePrice'])\n",
    "# Concatenar os dataframes\n",
    "df3 = pd.concat([df1,df2])"
   ]
  },
  {
   "cell_type": "code",
   "execution_count": 3,
   "id": "c0cefca5",
   "metadata": {},
   "outputs": [],
   "source": [
    "df3.to_csv('Base mesclada.csv')"
   ]
  },
  {
   "cell_type": "code",
   "execution_count": 9,
   "id": "34126376",
   "metadata": {},
   "outputs": [
    {
     "data": {
      "text/plain": [
       "Index(['Id', 'MSSubClass', 'MSZoning', 'LotFrontage', 'LotArea', 'Street',\n",
       "       'Alley', 'LotShape', 'LandContour', 'Utilities', 'LotConfig',\n",
       "       'LandSlope', 'Neighborhood', 'Condition1', 'Condition2', 'BldgType',\n",
       "       'HouseStyle', 'OverallQual', 'OverallCond', 'YearBuilt', 'YearRemodAdd',\n",
       "       'RoofStyle', 'RoofMatl', 'Exterior1st', 'Exterior2nd', 'MasVnrType',\n",
       "       'MasVnrArea', 'ExterQual', 'ExterCond', 'Foundation', 'BsmtQual',\n",
       "       'BsmtCond', 'BsmtExposure', 'BsmtFinType1', 'BsmtFinSF1',\n",
       "       'BsmtFinType2', 'BsmtFinSF2', 'BsmtUnfSF', 'TotalBsmtSF', 'Heating',\n",
       "       'HeatingQC', 'CentralAir', 'Electrical', '1stFlrSF', '2ndFlrSF',\n",
       "       'LowQualFinSF', 'GrLivArea', 'BsmtFullBath', 'BsmtHalfBath', 'FullBath',\n",
       "       'HalfBath', 'BedroomAbvGr', 'KitchenAbvGr', 'KitchenQual',\n",
       "       'TotRmsAbvGrd', 'Functional', 'Fireplaces', 'FireplaceQu', 'GarageType',\n",
       "       'GarageYrBlt', 'GarageFinish', 'GarageCars', 'GarageArea', 'GarageQual',\n",
       "       'GarageCond', 'PavedDrive', 'WoodDeckSF', 'OpenPorchSF',\n",
       "       'EnclosedPorch', '3SsnPorch', 'ScreenPorch', 'PoolArea', 'PoolQC',\n",
       "       'Fence', 'MiscFeature', 'MiscVal', 'MoSold', 'YrSold', 'SaleType',\n",
       "       'SaleCondition', 'SalePrice'],\n",
       "      dtype='object')"
      ]
     },
     "execution_count": 9,
     "metadata": {},
     "output_type": "execute_result"
    }
   ],
   "source": [
    "df3.columns"
   ]
  },
  {
   "cell_type": "code",
   "execution_count": 10,
   "id": "2fece203",
   "metadata": {},
   "outputs": [
    {
     "data": {
      "text/html": [
       "<div>\n",
       "<style scoped>\n",
       "    .dataframe tbody tr th:only-of-type {\n",
       "        vertical-align: middle;\n",
       "    }\n",
       "\n",
       "    .dataframe tbody tr th {\n",
       "        vertical-align: top;\n",
       "    }\n",
       "\n",
       "    .dataframe thead th {\n",
       "        text-align: right;\n",
       "    }\n",
       "</style>\n",
       "<table border=\"1\" class=\"dataframe\">\n",
       "  <thead>\n",
       "    <tr style=\"text-align: right;\">\n",
       "      <th></th>\n",
       "      <th>FullBath</th>\n",
       "    </tr>\n",
       "  </thead>\n",
       "  <tbody>\n",
       "    <tr>\n",
       "      <th>0</th>\n",
       "      <td>2</td>\n",
       "    </tr>\n",
       "    <tr>\n",
       "      <th>1</th>\n",
       "      <td>2</td>\n",
       "    </tr>\n",
       "    <tr>\n",
       "      <th>2</th>\n",
       "      <td>2</td>\n",
       "    </tr>\n",
       "    <tr>\n",
       "      <th>3</th>\n",
       "      <td>1</td>\n",
       "    </tr>\n",
       "    <tr>\n",
       "      <th>4</th>\n",
       "      <td>2</td>\n",
       "    </tr>\n",
       "    <tr>\n",
       "      <th>...</th>\n",
       "      <td>...</td>\n",
       "    </tr>\n",
       "    <tr>\n",
       "      <th>1454</th>\n",
       "      <td>1</td>\n",
       "    </tr>\n",
       "    <tr>\n",
       "      <th>1455</th>\n",
       "      <td>1</td>\n",
       "    </tr>\n",
       "    <tr>\n",
       "      <th>1456</th>\n",
       "      <td>1</td>\n",
       "    </tr>\n",
       "    <tr>\n",
       "      <th>1457</th>\n",
       "      <td>1</td>\n",
       "    </tr>\n",
       "    <tr>\n",
       "      <th>1458</th>\n",
       "      <td>2</td>\n",
       "    </tr>\n",
       "  </tbody>\n",
       "</table>\n",
       "<p>2919 rows × 1 columns</p>\n",
       "</div>"
      ],
      "text/plain": [
       "      FullBath\n",
       "0            2\n",
       "1            2\n",
       "2            2\n",
       "3            1\n",
       "4            2\n",
       "...        ...\n",
       "1454         1\n",
       "1455         1\n",
       "1456         1\n",
       "1457         1\n",
       "1458         2\n",
       "\n",
       "[2919 rows x 1 columns]"
      ]
     },
     "execution_count": 10,
     "metadata": {},
     "output_type": "execute_result"
    }
   ],
   "source": [
    "df3[['FullBath']]"
   ]
  },
  {
   "cell_type": "code",
   "execution_count": 60,
   "id": "82c071b1",
   "metadata": {},
   "outputs": [
    {
     "name": "stderr",
     "output_type": "stream",
     "text": [
      "<ipython-input-60-5d3e80bcc1d2>:7: SettingWithCopyWarning: \n",
      "A value is trying to be set on a copy of a slice from a DataFrame.\n",
      "Try using .loc[row_indexer,col_indexer] = value instead\n",
      "\n",
      "See the caveats in the documentation: https://pandas.pydata.org/pandas-docs/stable/user_guide/indexing.html#returning-a-view-versus-a-copy\n",
      "  df4['YrSold - YearBuilt'] = df4.loc[:,'YrSold'] - df4.loc[:,'YearBuilt']\n"
     ]
    }
   ],
   "source": [
    "# Seleciono as colunas que usaremos na base de dados\n",
    "\n",
    "colunas_escolhidas = ['SalePrice','MSZoning','HeatingQC','BedroomAbvGr','GarageArea','YrSold','YearBuilt','LotArea','FullBath']\n",
    "df4 = df3[colunas_escolhidas]\n",
    "\n",
    "# Crio a coluna resultante da subtração das colunas YrSold e YearBuilt\n",
    "df4['YrSold - YearBuilt'] = df4.loc[:,'YrSold'] - df4.loc[:,'YearBuilt']\n",
    "\n",
    "# Altero o nome das colunas\n",
    "novas_colunas = ['Preço da venda','Zona','Qualidade do Aquecimento','Número de Quartos','Área da Garagem','Ano da Venda','Ano da Construção','Área do Lote','Número de Banheiros', 'Idade do Imóvel']\n",
    "df4.columns = novas_colunas"
   ]
  },
  {
   "cell_type": "code",
   "execution_count": 61,
   "id": "dc9fc1b7",
   "metadata": {},
   "outputs": [
    {
     "data": {
      "text/html": [
       "<div>\n",
       "<style scoped>\n",
       "    .dataframe tbody tr th:only-of-type {\n",
       "        vertical-align: middle;\n",
       "    }\n",
       "\n",
       "    .dataframe tbody tr th {\n",
       "        vertical-align: top;\n",
       "    }\n",
       "\n",
       "    .dataframe thead th {\n",
       "        text-align: right;\n",
       "    }\n",
       "</style>\n",
       "<table border=\"1\" class=\"dataframe\">\n",
       "  <thead>\n",
       "    <tr style=\"text-align: right;\">\n",
       "      <th></th>\n",
       "      <th>Preço da venda</th>\n",
       "      <th>Zona</th>\n",
       "      <th>Qualidade do Aquecimento</th>\n",
       "      <th>Número de Quartos</th>\n",
       "      <th>Área da Garagem</th>\n",
       "      <th>Ano da Venda</th>\n",
       "      <th>Ano da Construção</th>\n",
       "      <th>Área do Lote</th>\n",
       "      <th>Número de Banheiros</th>\n",
       "      <th>Idade do Imóvel</th>\n",
       "    </tr>\n",
       "  </thead>\n",
       "  <tbody>\n",
       "    <tr>\n",
       "      <th>0</th>\n",
       "      <td>208500.0</td>\n",
       "      <td>RL</td>\n",
       "      <td>Ex</td>\n",
       "      <td>3</td>\n",
       "      <td>548.0</td>\n",
       "      <td>2008</td>\n",
       "      <td>2003</td>\n",
       "      <td>8450</td>\n",
       "      <td>2</td>\n",
       "      <td>5</td>\n",
       "    </tr>\n",
       "    <tr>\n",
       "      <th>1</th>\n",
       "      <td>181500.0</td>\n",
       "      <td>RL</td>\n",
       "      <td>Ex</td>\n",
       "      <td>3</td>\n",
       "      <td>460.0</td>\n",
       "      <td>2007</td>\n",
       "      <td>1976</td>\n",
       "      <td>9600</td>\n",
       "      <td>2</td>\n",
       "      <td>31</td>\n",
       "    </tr>\n",
       "    <tr>\n",
       "      <th>2</th>\n",
       "      <td>223500.0</td>\n",
       "      <td>RL</td>\n",
       "      <td>Ex</td>\n",
       "      <td>3</td>\n",
       "      <td>608.0</td>\n",
       "      <td>2008</td>\n",
       "      <td>2001</td>\n",
       "      <td>11250</td>\n",
       "      <td>2</td>\n",
       "      <td>7</td>\n",
       "    </tr>\n",
       "    <tr>\n",
       "      <th>3</th>\n",
       "      <td>140000.0</td>\n",
       "      <td>RL</td>\n",
       "      <td>Gd</td>\n",
       "      <td>3</td>\n",
       "      <td>642.0</td>\n",
       "      <td>2006</td>\n",
       "      <td>1915</td>\n",
       "      <td>9550</td>\n",
       "      <td>1</td>\n",
       "      <td>91</td>\n",
       "    </tr>\n",
       "    <tr>\n",
       "      <th>4</th>\n",
       "      <td>250000.0</td>\n",
       "      <td>RL</td>\n",
       "      <td>Ex</td>\n",
       "      <td>4</td>\n",
       "      <td>836.0</td>\n",
       "      <td>2008</td>\n",
       "      <td>2000</td>\n",
       "      <td>14260</td>\n",
       "      <td>2</td>\n",
       "      <td>8</td>\n",
       "    </tr>\n",
       "  </tbody>\n",
       "</table>\n",
       "</div>"
      ],
      "text/plain": [
       "   Preço da venda Zona Qualidade do Aquecimento  Número de Quartos  \\\n",
       "0        208500.0   RL                       Ex                  3   \n",
       "1        181500.0   RL                       Ex                  3   \n",
       "2        223500.0   RL                       Ex                  3   \n",
       "3        140000.0   RL                       Gd                  3   \n",
       "4        250000.0   RL                       Ex                  4   \n",
       "\n",
       "   Área da Garagem  Ano da Venda  Ano da Construção  Área do Lote  \\\n",
       "0            548.0          2008               2003          8450   \n",
       "1            460.0          2007               1976          9600   \n",
       "2            608.0          2008               2001         11250   \n",
       "3            642.0          2006               1915          9550   \n",
       "4            836.0          2008               2000         14260   \n",
       "\n",
       "   Número de Banheiros  Idade do Imóvel  \n",
       "0                    2                5  \n",
       "1                    2               31  \n",
       "2                    2                7  \n",
       "3                    1               91  \n",
       "4                    2                8  "
      ]
     },
     "execution_count": 61,
     "metadata": {},
     "output_type": "execute_result"
    }
   ],
   "source": [
    "df4.head()"
   ]
  },
  {
   "cell_type": "code",
   "execution_count": 62,
   "id": "9b3fb00d",
   "metadata": {},
   "outputs": [
    {
     "name": "stderr",
     "output_type": "stream",
     "text": [
      "<ipython-input-62-e201e1dbb3eb>:19: SettingWithCopyWarning: \n",
      "A value is trying to be set on a copy of a slice from a DataFrame.\n",
      "Try using .loc[row_indexer,col_indexer] = value instead\n",
      "\n",
      "See the caveats in the documentation: https://pandas.pydata.org/pandas-docs/stable/user_guide/indexing.html#returning-a-view-versus-a-copy\n",
      "  df4['Zona'] = df4['Zona'].apply(lambda x: transformar(x,deparaMSZone))\n",
      "<ipython-input-62-e201e1dbb3eb>:29: SettingWithCopyWarning: \n",
      "A value is trying to be set on a copy of a slice from a DataFrame.\n",
      "Try using .loc[row_indexer,col_indexer] = value instead\n",
      "\n",
      "See the caveats in the documentation: https://pandas.pydata.org/pandas-docs/stable/user_guide/indexing.html#returning-a-view-versus-a-copy\n",
      "  df4['Qualidade do Aquecimento'] = df4['Qualidade do Aquecimento'].apply(lambda x: transformar(x,deparaHeatingQC))\n"
     ]
    }
   ],
   "source": [
    "# Altero o nome dos valores das colunas categoricas Zona e Qualidade do Aquecimento\n",
    "\n",
    "# Função para auxiliar na alteração do valor \n",
    "def transformar(x, dictDePara):\n",
    "    if x is not np.nan:\n",
    "        return dictDePara[x]\n",
    "    return \"\"\n",
    "\n",
    "deparaMSZone = {\n",
    "    'A': 'Agrícola',\n",
    "    'C (all)': 'Comercial',\n",
    "    'FV': 'Vila Flutuante Residencial',\n",
    "    'I': 'Industrial',\n",
    "    'RH': 'Alta Densidade Residencial',\n",
    "    'RL': 'Baixa Densidade Residencial',\n",
    "    'RM': 'Média Densidade Residencial'\n",
    "}\n",
    "    \n",
    "df4['Zona'] = df4['Zona'].apply(lambda x: transformar(x,deparaMSZone))\n",
    "\n",
    "deparaHeatingQC = {\n",
    "    'Ex': 'Excelente',\n",
    "    'Gd': 'Bom',\n",
    "    'TA': 'Médio',\n",
    "    'Fa': 'Razoável',\n",
    "    'Po': 'Ruim'\n",
    "}\n",
    "    \n",
    "df4['Qualidade do Aquecimento'] = df4['Qualidade do Aquecimento'].apply(lambda x: transformar(x,deparaHeatingQC))"
   ]
  },
  {
   "cell_type": "code",
   "execution_count": 63,
   "id": "2e0f3a94",
   "metadata": {},
   "outputs": [
    {
     "data": {
      "text/plain": [
       "Baixa Densidade Residencial    2265\n",
       "Média Densidade Residencial     460\n",
       "Vila Flutuante Residencial      139\n",
       "Alta Densidade Residencial       26\n",
       "Comercial                        25\n",
       "                                  4\n",
       "Name: Zona, dtype: int64"
      ]
     },
     "execution_count": 63,
     "metadata": {},
     "output_type": "execute_result"
    }
   ],
   "source": [
    "df4['Zona'].value_counts()"
   ]
  },
  {
   "cell_type": "code",
   "execution_count": 64,
   "id": "21695bb6",
   "metadata": {},
   "outputs": [
    {
     "data": {
      "text/plain": [
       "Excelente    1493\n",
       "Médio         857\n",
       "Bom           474\n",
       "Razoável       92\n",
       "Ruim            3\n",
       "Name: Qualidade do Aquecimento, dtype: int64"
      ]
     },
     "execution_count": 64,
     "metadata": {},
     "output_type": "execute_result"
    }
   ],
   "source": [
    "df4['Qualidade do Aquecimento'].value_counts()"
   ]
  },
  {
   "cell_type": "code",
   "execution_count": 66,
   "id": "c7314ba1",
   "metadata": {},
   "outputs": [],
   "source": [
    "df4.to_csv('Base mesclada filtrada.csv')"
   ]
  },
  {
   "cell_type": "code",
   "execution_count": 65,
   "id": "8ffbc001",
   "metadata": {},
   "outputs": [
    {
     "data": {
      "text/html": [
       "<div>\n",
       "<style scoped>\n",
       "    .dataframe tbody tr th:only-of-type {\n",
       "        vertical-align: middle;\n",
       "    }\n",
       "\n",
       "    .dataframe tbody tr th {\n",
       "        vertical-align: top;\n",
       "    }\n",
       "\n",
       "    .dataframe thead th {\n",
       "        text-align: right;\n",
       "    }\n",
       "</style>\n",
       "<table border=\"1\" class=\"dataframe\">\n",
       "  <thead>\n",
       "    <tr style=\"text-align: right;\">\n",
       "      <th></th>\n",
       "      <th>Preço da venda</th>\n",
       "      <th>Zona</th>\n",
       "      <th>Qualidade do Aquecimento</th>\n",
       "      <th>Número de Quartos</th>\n",
       "      <th>Área da Garagem</th>\n",
       "      <th>Ano da Venda</th>\n",
       "      <th>Ano da Construção</th>\n",
       "      <th>Área do Lote</th>\n",
       "      <th>Número de Banheiros</th>\n",
       "      <th>Idade do Imóvel</th>\n",
       "    </tr>\n",
       "  </thead>\n",
       "  <tbody>\n",
       "    <tr>\n",
       "      <th>0</th>\n",
       "      <td>208500.0</td>\n",
       "      <td>Baixa Densidade Residencial</td>\n",
       "      <td>Excelente</td>\n",
       "      <td>3</td>\n",
       "      <td>548.0</td>\n",
       "      <td>2008</td>\n",
       "      <td>2003</td>\n",
       "      <td>8450</td>\n",
       "      <td>2</td>\n",
       "      <td>5</td>\n",
       "    </tr>\n",
       "    <tr>\n",
       "      <th>1</th>\n",
       "      <td>181500.0</td>\n",
       "      <td>Baixa Densidade Residencial</td>\n",
       "      <td>Excelente</td>\n",
       "      <td>3</td>\n",
       "      <td>460.0</td>\n",
       "      <td>2007</td>\n",
       "      <td>1976</td>\n",
       "      <td>9600</td>\n",
       "      <td>2</td>\n",
       "      <td>31</td>\n",
       "    </tr>\n",
       "    <tr>\n",
       "      <th>2</th>\n",
       "      <td>223500.0</td>\n",
       "      <td>Baixa Densidade Residencial</td>\n",
       "      <td>Excelente</td>\n",
       "      <td>3</td>\n",
       "      <td>608.0</td>\n",
       "      <td>2008</td>\n",
       "      <td>2001</td>\n",
       "      <td>11250</td>\n",
       "      <td>2</td>\n",
       "      <td>7</td>\n",
       "    </tr>\n",
       "    <tr>\n",
       "      <th>3</th>\n",
       "      <td>140000.0</td>\n",
       "      <td>Baixa Densidade Residencial</td>\n",
       "      <td>Bom</td>\n",
       "      <td>3</td>\n",
       "      <td>642.0</td>\n",
       "      <td>2006</td>\n",
       "      <td>1915</td>\n",
       "      <td>9550</td>\n",
       "      <td>1</td>\n",
       "      <td>91</td>\n",
       "    </tr>\n",
       "    <tr>\n",
       "      <th>4</th>\n",
       "      <td>250000.0</td>\n",
       "      <td>Baixa Densidade Residencial</td>\n",
       "      <td>Excelente</td>\n",
       "      <td>4</td>\n",
       "      <td>836.0</td>\n",
       "      <td>2008</td>\n",
       "      <td>2000</td>\n",
       "      <td>14260</td>\n",
       "      <td>2</td>\n",
       "      <td>8</td>\n",
       "    </tr>\n",
       "  </tbody>\n",
       "</table>\n",
       "</div>"
      ],
      "text/plain": [
       "   Preço da venda                         Zona Qualidade do Aquecimento  \\\n",
       "0        208500.0  Baixa Densidade Residencial                Excelente   \n",
       "1        181500.0  Baixa Densidade Residencial                Excelente   \n",
       "2        223500.0  Baixa Densidade Residencial                Excelente   \n",
       "3        140000.0  Baixa Densidade Residencial                      Bom   \n",
       "4        250000.0  Baixa Densidade Residencial                Excelente   \n",
       "\n",
       "   Número de Quartos  Área da Garagem  Ano da Venda  Ano da Construção  \\\n",
       "0                  3            548.0          2008               2003   \n",
       "1                  3            460.0          2007               1976   \n",
       "2                  3            608.0          2008               2001   \n",
       "3                  3            642.0          2006               1915   \n",
       "4                  4            836.0          2008               2000   \n",
       "\n",
       "   Área do Lote  Número de Banheiros  Idade do Imóvel  \n",
       "0          8450                    2                5  \n",
       "1          9600                    2               31  \n",
       "2         11250                    2                7  \n",
       "3          9550                    1               91  \n",
       "4         14260                    2                8  "
      ]
     },
     "execution_count": 65,
     "metadata": {},
     "output_type": "execute_result"
    }
   ],
   "source": [
    "df4.head()"
   ]
  },
  {
   "cell_type": "code",
   "execution_count": 67,
   "id": "1f10b9ed",
   "metadata": {},
   "outputs": [
    {
     "data": {
      "text/plain": [
       "(2919, 10)"
      ]
     },
     "execution_count": 67,
     "metadata": {},
     "output_type": "execute_result"
    }
   ],
   "source": [
    "df4.shape"
   ]
  },
  {
   "cell_type": "code",
   "execution_count": null,
   "id": "5e136872",
   "metadata": {},
   "outputs": [],
   "source": []
  }
 ],
 "metadata": {
  "kernelspec": {
   "display_name": "Python 3 (ipykernel)",
   "language": "python",
   "name": "python3"
  },
  "language_info": {
   "codemirror_mode": {
    "name": "ipython",
    "version": 3
   },
   "file_extension": ".py",
   "mimetype": "text/x-python",
   "name": "python",
   "nbconvert_exporter": "python",
   "pygments_lexer": "ipython3",
   "version": "3.9.6"
  }
 },
 "nbformat": 4,
 "nbformat_minor": 5
}
