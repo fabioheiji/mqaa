{
 "cells": [
  {
   "cell_type": "code",
   "execution_count": 7,
   "id": "cd2b1c6d",
   "metadata": {},
   "outputs": [],
   "source": [
    "import matplotlib.pyplot as plt\n",
    "%matplotlib inline\n",
    "import pandas as pd\n",
    "import numpy as np"
   ]
  },
  {
   "cell_type": "markdown",
   "id": "704fccb4",
   "metadata": {},
   "source": [
    "## Importação dos dados"
   ]
  },
  {
   "cell_type": "code",
   "execution_count": 8,
   "id": "3acf79d7",
   "metadata": {
    "scrolled": true
   },
   "outputs": [],
   "source": [
    "path1 = 'train.csv'\n",
    "df1 = pd.read_csv(path1)\n",
    "path2 = 'test.csv'\n",
    "df2 = pd.read_csv(path2)\n",
    "path3 = 'sample_submission.csv'\n",
    "sales_test = pd.read_csv(path3)\n",
    "dfteste = df2.copy()\n",
    "df2.insert(df1.columns.shape[0]-1, \"SalePrice\", sales_test['SalePrice'])\n",
    "# Concatenar os dataframes\n",
    "df3 = pd.concat([df1,df2])"
   ]
  },
  {
   "cell_type": "code",
   "execution_count": 3,
   "id": "c0cefca5",
   "metadata": {},
   "outputs": [],
   "source": [
    "df3.to_csv('Base mesclada.csv')"
   ]
  },
  {
   "cell_type": "code",
   "execution_count": 9,
   "id": "34126376",
   "metadata": {},
   "outputs": [
    {
     "data": {
      "text/plain": [
       "Index(['Id', 'MSSubClass', 'MSZoning', 'LotFrontage', 'LotArea', 'Street',\n",
       "       'Alley', 'LotShape', 'LandContour', 'Utilities', 'LotConfig',\n",
       "       'LandSlope', 'Neighborhood', 'Condition1', 'Condition2', 'BldgType',\n",
       "       'HouseStyle', 'OverallQual', 'OverallCond', 'YearBuilt', 'YearRemodAdd',\n",
       "       'RoofStyle', 'RoofMatl', 'Exterior1st', 'Exterior2nd', 'MasVnrType',\n",
       "       'MasVnrArea', 'ExterQual', 'ExterCond', 'Foundation', 'BsmtQual',\n",
       "       'BsmtCond', 'BsmtExposure', 'BsmtFinType1', 'BsmtFinSF1',\n",
       "       'BsmtFinType2', 'BsmtFinSF2', 'BsmtUnfSF', 'TotalBsmtSF', 'Heating',\n",
       "       'HeatingQC', 'CentralAir', 'Electrical', '1stFlrSF', '2ndFlrSF',\n",
       "       'LowQualFinSF', 'GrLivArea', 'BsmtFullBath', 'BsmtHalfBath', 'FullBath',\n",
       "       'HalfBath', 'BedroomAbvGr', 'KitchenAbvGr', 'KitchenQual',\n",
       "       'TotRmsAbvGrd', 'Functional', 'Fireplaces', 'FireplaceQu', 'GarageType',\n",
       "       'GarageYrBlt', 'GarageFinish', 'GarageCars', 'GarageArea', 'GarageQual',\n",
       "       'GarageCond', 'PavedDrive', 'WoodDeckSF', 'OpenPorchSF',\n",
       "       'EnclosedPorch', '3SsnPorch', 'ScreenPorch', 'PoolArea', 'PoolQC',\n",
       "       'Fence', 'MiscFeature', 'MiscVal', 'MoSold', 'YrSold', 'SaleType',\n",
       "       'SaleCondition', 'SalePrice'],\n",
       "      dtype='object')"
      ]
     },
     "execution_count": 9,
     "metadata": {},
     "output_type": "execute_result"
    }
   ],
   "source": [
    "df3.columns"
   ]
  },
  {
   "cell_type": "code",
   "execution_count": 11,
   "id": "2fece203",
   "metadata": {},
   "outputs": [
    {
     "data": {
      "text/html": [
       "<div>\n",
       "<style scoped>\n",
       "    .dataframe tbody tr th:only-of-type {\n",
       "        vertical-align: middle;\n",
       "    }\n",
       "\n",
       "    .dataframe tbody tr th {\n",
       "        vertical-align: top;\n",
       "    }\n",
       "\n",
       "    .dataframe thead th {\n",
       "        text-align: right;\n",
       "    }\n",
       "</style>\n",
       "<table border=\"1\" class=\"dataframe\">\n",
       "  <thead>\n",
       "    <tr style=\"text-align: right;\">\n",
       "      <th></th>\n",
       "      <th>FullBath</th>\n",
       "    </tr>\n",
       "  </thead>\n",
       "  <tbody>\n",
       "    <tr>\n",
       "      <th>0</th>\n",
       "      <td>2</td>\n",
       "    </tr>\n",
       "    <tr>\n",
       "      <th>1</th>\n",
       "      <td>2</td>\n",
       "    </tr>\n",
       "    <tr>\n",
       "      <th>2</th>\n",
       "      <td>2</td>\n",
       "    </tr>\n",
       "    <tr>\n",
       "      <th>3</th>\n",
       "      <td>1</td>\n",
       "    </tr>\n",
       "    <tr>\n",
       "      <th>4</th>\n",
       "      <td>2</td>\n",
       "    </tr>\n",
       "    <tr>\n",
       "      <th>...</th>\n",
       "      <td>...</td>\n",
       "    </tr>\n",
       "    <tr>\n",
       "      <th>1454</th>\n",
       "      <td>1</td>\n",
       "    </tr>\n",
       "    <tr>\n",
       "      <th>1455</th>\n",
       "      <td>1</td>\n",
       "    </tr>\n",
       "    <tr>\n",
       "      <th>1456</th>\n",
       "      <td>1</td>\n",
       "    </tr>\n",
       "    <tr>\n",
       "      <th>1457</th>\n",
       "      <td>1</td>\n",
       "    </tr>\n",
       "    <tr>\n",
       "      <th>1458</th>\n",
       "      <td>2</td>\n",
       "    </tr>\n",
       "  </tbody>\n",
       "</table>\n",
       "<p>2919 rows × 1 columns</p>\n",
       "</div>"
      ],
      "text/plain": [
       "      FullBath\n",
       "0            2\n",
       "1            2\n",
       "2            2\n",
       "3            1\n",
       "4            2\n",
       "...        ...\n",
       "1454         1\n",
       "1455         1\n",
       "1456         1\n",
       "1457         1\n",
       "1458         2\n",
       "\n",
       "[2919 rows x 1 columns]"
      ]
     },
     "execution_count": 11,
     "metadata": {},
     "output_type": "execute_result"
    }
   ],
   "source": [
    "df3[['FullBath']]"
   ]
  },
  {
   "cell_type": "code",
   "execution_count": 12,
   "id": "82c071b1",
   "metadata": {},
   "outputs": [
    {
     "name": "stderr",
     "output_type": "stream",
     "text": [
      "<ipython-input-12-3f37d9496ae0>:3: SettingWithCopyWarning: \n",
      "A value is trying to be set on a copy of a slice from a DataFrame.\n",
      "Try using .loc[row_indexer,col_indexer] = value instead\n",
      "\n",
      "See the caveats in the documentation: https://pandas.pydata.org/pandas-docs/stable/user_guide/indexing.html#returning-a-view-versus-a-copy\n",
      "  df4['YrSold - YearBuilt'] = df4.loc[:,'YrSold'] - df4.loc[:,'YearBuilt']\n"
     ]
    }
   ],
   "source": [
    "colunas_escolhidas = ['SalePrice','MSZoning','HeatingQC','BedroomAbvGr','GarageArea','YrSold','YearBuilt','LotArea','FullBath']\n",
    "df4 = df3[colunas_escolhidas]\n",
    "df4['YrSold - YearBuilt'] = df4.loc[:,'YrSold'] - df4.loc[:,'YearBuilt']"
   ]
  },
  {
   "cell_type": "code",
   "execution_count": 13,
   "id": "c7314ba1",
   "metadata": {},
   "outputs": [],
   "source": [
    "df4.to_csv('Base mesclada filtrada.csv')"
   ]
  },
  {
   "cell_type": "code",
   "execution_count": 14,
   "id": "8ffbc001",
   "metadata": {},
   "outputs": [
    {
     "data": {
      "text/html": [
       "<div>\n",
       "<style scoped>\n",
       "    .dataframe tbody tr th:only-of-type {\n",
       "        vertical-align: middle;\n",
       "    }\n",
       "\n",
       "    .dataframe tbody tr th {\n",
       "        vertical-align: top;\n",
       "    }\n",
       "\n",
       "    .dataframe thead th {\n",
       "        text-align: right;\n",
       "    }\n",
       "</style>\n",
       "<table border=\"1\" class=\"dataframe\">\n",
       "  <thead>\n",
       "    <tr style=\"text-align: right;\">\n",
       "      <th></th>\n",
       "      <th>SalePrice</th>\n",
       "      <th>MSZoning</th>\n",
       "      <th>HeatingQC</th>\n",
       "      <th>BedroomAbvGr</th>\n",
       "      <th>GarageArea</th>\n",
       "      <th>YrSold</th>\n",
       "      <th>YearBuilt</th>\n",
       "      <th>LotArea</th>\n",
       "      <th>FullBath</th>\n",
       "      <th>YrSold - YearBuilt</th>\n",
       "    </tr>\n",
       "  </thead>\n",
       "  <tbody>\n",
       "    <tr>\n",
       "      <th>0</th>\n",
       "      <td>208500.0</td>\n",
       "      <td>RL</td>\n",
       "      <td>Ex</td>\n",
       "      <td>3</td>\n",
       "      <td>548.0</td>\n",
       "      <td>2008</td>\n",
       "      <td>2003</td>\n",
       "      <td>8450</td>\n",
       "      <td>2</td>\n",
       "      <td>5</td>\n",
       "    </tr>\n",
       "    <tr>\n",
       "      <th>1</th>\n",
       "      <td>181500.0</td>\n",
       "      <td>RL</td>\n",
       "      <td>Ex</td>\n",
       "      <td>3</td>\n",
       "      <td>460.0</td>\n",
       "      <td>2007</td>\n",
       "      <td>1976</td>\n",
       "      <td>9600</td>\n",
       "      <td>2</td>\n",
       "      <td>31</td>\n",
       "    </tr>\n",
       "    <tr>\n",
       "      <th>2</th>\n",
       "      <td>223500.0</td>\n",
       "      <td>RL</td>\n",
       "      <td>Ex</td>\n",
       "      <td>3</td>\n",
       "      <td>608.0</td>\n",
       "      <td>2008</td>\n",
       "      <td>2001</td>\n",
       "      <td>11250</td>\n",
       "      <td>2</td>\n",
       "      <td>7</td>\n",
       "    </tr>\n",
       "    <tr>\n",
       "      <th>3</th>\n",
       "      <td>140000.0</td>\n",
       "      <td>RL</td>\n",
       "      <td>Gd</td>\n",
       "      <td>3</td>\n",
       "      <td>642.0</td>\n",
       "      <td>2006</td>\n",
       "      <td>1915</td>\n",
       "      <td>9550</td>\n",
       "      <td>1</td>\n",
       "      <td>91</td>\n",
       "    </tr>\n",
       "    <tr>\n",
       "      <th>4</th>\n",
       "      <td>250000.0</td>\n",
       "      <td>RL</td>\n",
       "      <td>Ex</td>\n",
       "      <td>4</td>\n",
       "      <td>836.0</td>\n",
       "      <td>2008</td>\n",
       "      <td>2000</td>\n",
       "      <td>14260</td>\n",
       "      <td>2</td>\n",
       "      <td>8</td>\n",
       "    </tr>\n",
       "  </tbody>\n",
       "</table>\n",
       "</div>"
      ],
      "text/plain": [
       "   SalePrice MSZoning HeatingQC  BedroomAbvGr  GarageArea  YrSold  YearBuilt  \\\n",
       "0   208500.0       RL        Ex             3       548.0    2008       2003   \n",
       "1   181500.0       RL        Ex             3       460.0    2007       1976   \n",
       "2   223500.0       RL        Ex             3       608.0    2008       2001   \n",
       "3   140000.0       RL        Gd             3       642.0    2006       1915   \n",
       "4   250000.0       RL        Ex             4       836.0    2008       2000   \n",
       "\n",
       "   LotArea  FullBath  YrSold - YearBuilt  \n",
       "0     8450         2                   5  \n",
       "1     9600         2                  31  \n",
       "2    11250         2                   7  \n",
       "3     9550         1                  91  \n",
       "4    14260         2                   8  "
      ]
     },
     "execution_count": 14,
     "metadata": {},
     "output_type": "execute_result"
    }
   ],
   "source": [
    "df4.head()"
   ]
  },
  {
   "cell_type": "code",
   "execution_count": 74,
   "id": "1f10b9ed",
   "metadata": {},
   "outputs": [
    {
     "data": {
      "text/plain": [
       "(2919, 8)"
      ]
     },
     "execution_count": 74,
     "metadata": {},
     "output_type": "execute_result"
    }
   ],
   "source": [
    "df4.shape"
   ]
  }
 ],
 "metadata": {
  "kernelspec": {
   "display_name": "Python 3.9.6 64-bit",
   "language": "python",
   "name": "python396jvsc74a57bd0b0fa6594d8f4cbf19f97940f81e996739fb7646882a419484c72d19e05852a7e"
  },
  "language_info": {
   "codemirror_mode": {
    "name": "ipython",
    "version": 3
   },
   "file_extension": ".py",
   "mimetype": "text/x-python",
   "name": "python",
   "nbconvert_exporter": "python",
   "pygments_lexer": "ipython3",
   "version": "3.9.6"
  }
 },
 "nbformat": 4,
 "nbformat_minor": 5
}
