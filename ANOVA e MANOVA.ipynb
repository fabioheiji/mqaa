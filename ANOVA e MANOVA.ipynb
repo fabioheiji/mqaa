{
 "cells": [
  {
   "cell_type": "code",
   "execution_count": 14,
   "id": "7dc52a93",
   "metadata": {},
   "outputs": [],
   "source": [
    "import matplotlib.pyplot as plt\n",
    "%matplotlib inline\n",
    "import pandas as pd\n",
    "import numpy as np\n",
    "import seaborn as sns\n",
    "from pywaffle import Waffle\n",
    "import math\n",
    "from sklearn.metrics.pairwise import euclidean_distances\n",
    "from scipy.stats import norm\n",
    "import statistics\n",
    "from matplotlib.cbook import boxplot_stats\n",
    "import statsmodels.api as sm\n",
    "from sklearn.linear_model import LinearRegression\n",
    "from scipy.stats import norm\n",
    "from statsmodels.formula.api import ols"
   ]
  },
  {
   "cell_type": "code",
   "execution_count": 99,
   "id": "0391a99c",
   "metadata": {},
   "outputs": [],
   "source": [
    "#Importar os dados\n",
    "df = pd.read_csv('base_dummy.csv')\n",
    "colunas_para_analisar = df.columns[:8]\n",
    "df = df[colunas_para_analisar]\n",
    "\n",
    "#Renomeio as colunas pois aparentemente a classe statsmodel nao aceita nomes de variaveis com espaco\n",
    "df.columns=['Preco','Zona', 'Qualidade_do_Aquecimento',\n",
    "       'Numero_de_Quartos', 'Area_da_Garagem', 'Area_do_Lote',\n",
    "       'Numero_de_Banheiros', 'Idade_do_Imovel']"
   ]
  },
  {
   "cell_type": "code",
   "execution_count": 100,
   "id": "78cc0079",
   "metadata": {},
   "outputs": [
    {
     "data": {
      "text/html": [
       "<div>\n",
       "<style scoped>\n",
       "    .dataframe tbody tr th:only-of-type {\n",
       "        vertical-align: middle;\n",
       "    }\n",
       "\n",
       "    .dataframe tbody tr th {\n",
       "        vertical-align: top;\n",
       "    }\n",
       "\n",
       "    .dataframe thead th {\n",
       "        text-align: right;\n",
       "    }\n",
       "</style>\n",
       "<table border=\"1\" class=\"dataframe\">\n",
       "  <thead>\n",
       "    <tr style=\"text-align: right;\">\n",
       "      <th></th>\n",
       "      <th>Preco</th>\n",
       "      <th>Zona</th>\n",
       "      <th>Qualidade_do_Aquecimento</th>\n",
       "      <th>Numero_de_Quartos</th>\n",
       "      <th>Area_da_Garagem</th>\n",
       "      <th>Area_do_Lote</th>\n",
       "      <th>Numero_de_Banheiros</th>\n",
       "      <th>Idade_do_Imovel</th>\n",
       "    </tr>\n",
       "  </thead>\n",
       "  <tbody>\n",
       "    <tr>\n",
       "      <th>0</th>\n",
       "      <td>208500.0</td>\n",
       "      <td>Baixa Densidade Residencial</td>\n",
       "      <td>Excelente</td>\n",
       "      <td>3</td>\n",
       "      <td>548.0</td>\n",
       "      <td>8450</td>\n",
       "      <td>2</td>\n",
       "      <td>5</td>\n",
       "    </tr>\n",
       "    <tr>\n",
       "      <th>1</th>\n",
       "      <td>181500.0</td>\n",
       "      <td>Baixa Densidade Residencial</td>\n",
       "      <td>Excelente</td>\n",
       "      <td>3</td>\n",
       "      <td>460.0</td>\n",
       "      <td>9600</td>\n",
       "      <td>2</td>\n",
       "      <td>31</td>\n",
       "    </tr>\n",
       "    <tr>\n",
       "      <th>2</th>\n",
       "      <td>223500.0</td>\n",
       "      <td>Baixa Densidade Residencial</td>\n",
       "      <td>Excelente</td>\n",
       "      <td>3</td>\n",
       "      <td>608.0</td>\n",
       "      <td>11250</td>\n",
       "      <td>2</td>\n",
       "      <td>7</td>\n",
       "    </tr>\n",
       "    <tr>\n",
       "      <th>3</th>\n",
       "      <td>140000.0</td>\n",
       "      <td>Baixa Densidade Residencial</td>\n",
       "      <td>Bom</td>\n",
       "      <td>3</td>\n",
       "      <td>642.0</td>\n",
       "      <td>9550</td>\n",
       "      <td>1</td>\n",
       "      <td>91</td>\n",
       "    </tr>\n",
       "    <tr>\n",
       "      <th>4</th>\n",
       "      <td>250000.0</td>\n",
       "      <td>Baixa Densidade Residencial</td>\n",
       "      <td>Excelente</td>\n",
       "      <td>4</td>\n",
       "      <td>836.0</td>\n",
       "      <td>14260</td>\n",
       "      <td>2</td>\n",
       "      <td>8</td>\n",
       "    </tr>\n",
       "  </tbody>\n",
       "</table>\n",
       "</div>"
      ],
      "text/plain": [
       "      Preco                         Zona Qualidade_do_Aquecimento  \\\n",
       "0  208500.0  Baixa Densidade Residencial                Excelente   \n",
       "1  181500.0  Baixa Densidade Residencial                Excelente   \n",
       "2  223500.0  Baixa Densidade Residencial                Excelente   \n",
       "3  140000.0  Baixa Densidade Residencial                      Bom   \n",
       "4  250000.0  Baixa Densidade Residencial                Excelente   \n",
       "\n",
       "   Numero_de_Quartos  Area_da_Garagem  Area_do_Lote  Numero_de_Banheiros  \\\n",
       "0                  3            548.0          8450                    2   \n",
       "1                  3            460.0          9600                    2   \n",
       "2                  3            608.0         11250                    2   \n",
       "3                  3            642.0          9550                    1   \n",
       "4                  4            836.0         14260                    2   \n",
       "\n",
       "   Idade_do_Imovel  \n",
       "0                5  \n",
       "1               31  \n",
       "2                7  \n",
       "3               91  \n",
       "4                8  "
      ]
     },
     "execution_count": 100,
     "metadata": {},
     "output_type": "execute_result"
    }
   ],
   "source": [
    "df.head()"
   ]
  },
  {
   "cell_type": "markdown",
   "id": "c1b5c27d",
   "metadata": {},
   "source": [
    "# ANOVA"
   ]
  },
  {
   "cell_type": "markdown",
   "id": "f916776f",
   "metadata": {},
   "source": [
    "1) Determinação da variável em estudo<br/>\n",
    "Preço da venda<br/>\n",
    "2) Tipo da variável dependente<br/>\n",
    "quantitativa contínua<br/>\n",
    "3) N° de Amostras<br/>\n",
    "qtd de tipos de zonas (mais de duas amostras)<br/>\n",
    "4) Relacionamento entre as a mostras<br/>\n",
    "Independentes<br/>\n",
    "\n",
    "Hipóteses estatísticas:<br/>\n",
    "H0 :μSD =μDG=μCD<br/>\n",
    "H1 : as médias não são todas iguais entre si<br/>"
   ]
  },
  {
   "cell_type": "code",
   "execution_count": 102,
   "id": "6300d4f8",
   "metadata": {},
   "outputs": [],
   "source": [
    "# Função que gera a tabela ANOVA\n",
    "def gerar_tabela_ANOVA(df,atributo):\n",
    "    dado = ols('Preco ~ '+atributo,data=df).fit()\n",
    "    table = sm.stats.anova_lm(dado, typ=2) # DataFrame da ANOVA Tipo 2 \n",
    "    print(table)"
   ]
  },
  {
   "cell_type": "markdown",
   "id": "7482c341",
   "metadata": {},
   "source": [
    "## Utilizando variáveis independentes categóricas"
   ]
  },
  {
   "cell_type": "code",
   "execution_count": 103,
   "id": "78b5be20",
   "metadata": {},
   "outputs": [
    {
     "name": "stdout",
     "output_type": "stream",
     "text": [
      "                sum_sq      df          F        PR(>F)\n",
      "Zona      6.192316e+11     4.0  50.185133  6.679178e-41\n",
      "Residual  8.976583e+12  2910.0        NaN           NaN\n",
      "                                sum_sq      df          F        PR(>F)\n",
      "Qualidade_do_Aquecimento  9.253751e+11     4.0  77.642508  1.169687e-62\n",
      "Residual                  8.682560e+12  2914.0        NaN           NaN\n",
      "                         sum_sq      df           F        PR(>F)\n",
      "Numero_de_Quartos  5.065400e+11     1.0  162.346218  3.153838e-36\n",
      "Residual           9.101395e+12  2917.0         NaN           NaN\n",
      "                           sum_sq      df           F         PR(>F)\n",
      "Numero_de_Banheiros  1.807298e+12     1.0  675.828074  3.446160e-134\n",
      "Residual             7.800637e+12  2917.0         NaN            NaN\n"
     ]
    }
   ],
   "source": [
    "colunas_para_ANOVA = ['Zona', 'Qualidade_do_Aquecimento', 'Numero_de_Quartos', 'Numero_de_Banheiros']\n",
    "for atributo in colunas_para_ANOVA:\n",
    "    gerar_tabela_ANOVA(df,atributo)"
   ]
  },
  {
   "cell_type": "markdown",
   "id": "72396521",
   "metadata": {},
   "source": [
    "## Utilizando variáveis independentes continuas"
   ]
  },
  {
   "cell_type": "code",
   "execution_count": 104,
   "id": "be14b4d0",
   "metadata": {},
   "outputs": [
    {
     "name": "stdout",
     "output_type": "stream",
     "text": [
      "                       sum_sq      df           F         PR(>F)\n",
      "Area_da_Garagem  2.075770e+12     1.0  803.613947  2.376888e-156\n",
      "Residual         7.532155e+12  2916.0         NaN            NaN\n",
      "                    sum_sq      df           F        PR(>F)\n",
      "Area_do_Lote  8.446355e+11     1.0  281.150001  2.574685e-60\n",
      "Residual      8.763300e+12  2917.0         NaN           NaN\n",
      "                       sum_sq      df           F        PR(>F)\n",
      "Idade_do_Imovel  1.267602e+12     1.0  443.338805  9.735612e-92\n",
      "Residual         8.340334e+12  2917.0         NaN           NaN\n"
     ]
    }
   ],
   "source": [
    "colunas_para_ANOVA = ['Area_da_Garagem', 'Area_do_Lote', 'Idade_do_Imovel']\n",
    "for atributo in colunas_para_ANOVA:\n",
    "    gerar_tabela_ANOVA(df,atributo)"
   ]
  }
 ],
 "metadata": {
  "kernelspec": {
   "display_name": "Python 3.9.6 64-bit ('.venv': conda)",
   "language": "python",
   "name": "python396jvsc74a57bd07591a17056fb32ec09ba30e66af77c31c034ba6606dfc0c32f1b3b54c345f8b2"
  },
  "language_info": {
   "codemirror_mode": {
    "name": "ipython",
    "version": 3
   },
   "file_extension": ".py",
   "mimetype": "text/x-python",
   "name": "python",
   "nbconvert_exporter": "python",
   "pygments_lexer": "ipython3",
   "version": "3.9.6"
  }
 },
 "nbformat": 4,
 "nbformat_minor": 5
}
